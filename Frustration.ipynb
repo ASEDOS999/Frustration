{
 "cells": [
  {
   "cell_type": "markdown",
   "metadata": {},
   "source": [
    "# Clusterization of Differences"
   ]
  },
  {
   "cell_type": "code",
   "execution_count": 423,
   "metadata": {
    "collapsed": false
   },
   "outputs": [],
   "source": [
    "import pandas as pd\n",
    "import numpy as np\n",
    "calm = pd.read_csv('calm.csv', ';').sort_values(by = ['ID'])\n",
    "frust = pd.read_csv('frustration.csv', ';').sort_values(by = ['ID'])\n",
    "#keys = [i for i in calm.columns if 'Тональность' in i] + ['ID']\n",
    "keys = ['ID']\n",
    "for i in keys:\n",
    "    del calm[i], frust[i]\n",
    "keys = calm.columns"
   ]
  },
  {
   "cell_type": "code",
   "execution_count": 424,
   "metadata": {
    "collapsed": false
   },
   "outputs": [],
   "source": [
    "calm, frust = calm.values, frust.values\n",
    "delta = calm-frust"
   ]
  },
  {
   "cell_type": "code",
   "execution_count": 425,
   "metadata": {
    "collapsed": false
   },
   "outputs": [],
   "source": [
    "from sklearn.preprocessing import scale\n",
    "delta =scale(delta)"
   ]
  },
  {
   "cell_type": "markdown",
   "metadata": {},
   "source": [
    "## Visualization"
   ]
  },
  {
   "cell_type": "code",
   "execution_count": 426,
   "metadata": {
    "collapsed": false
   },
   "outputs": [
    {
     "name": "stdout",
     "output_type": "stream",
     "text": [
      "(101, 198)\n"
     ]
    },
    {
     "data": {
      "text/plain": [
       "[<matplotlib.lines.Line2D at 0x7fed3b0cb710>]"
      ]
     },
     "execution_count": 426,
     "metadata": {},
     "output_type": "execute_result"
    },
    {
     "data": {
      "image/png": "[encoded data removed]",
      "text/plain": [
       "<Figure size 432x288 with 1 Axes>"
      ]
     },
     "metadata": {},
     "output_type": "display_data"
    }
   ],
   "source": [
    "from sklearn.decomposition import PCA\n",
    "print(delta.shape)\n",
    "pca = PCA(100).fit(delta)\n",
    "y = pca.explained_variance_ratio_\n",
    "import matplotlib.pylab as plt\n",
    "%matplotlib inline\n",
    "plt.plot([i for i in range(len(y))], y)\n",
    "#keys[pca.mean_.argmax()]"
   ]
  },
  {
   "cell_type": "code",
   "execution_count": 427,
   "metadata": {
    "collapsed": false,
    "scrolled": true
   },
   "outputs": [
    {
     "data": {
      "text/plain": [
       "[<matplotlib.lines.Line2D at 0x7fed3b102940>]"
      ]
     },
     "execution_count": 427,
     "metadata": {},
     "output_type": "execute_result"
    },
    {
     "data": {
      "image/png": "[encoded data removed]",
      "text/plain": [
       "<Figure size 432x288 with 1 Axes>"
      ]
     },
     "metadata": {},
     "output_type": "display_data"
    }
   ],
   "source": [
    "pca = PCA(2).fit(delta)\n",
    "delta_ = pca.transform(delta)\n",
    "import matplotlib.pylab as plt\n",
    "%matplotlib inline\n",
    "plt.plot(delta_[:,0], delta_[:,1], 'ro')"
   ]
  },
  {
   "cell_type": "markdown",
   "metadata": {},
   "source": [
    "## Clustering"
   ]
  },
  {
   "cell_type": "code",
   "execution_count": 428,
   "metadata": {
    "collapsed": false
   },
   "outputs": [
    {
     "name": "stdout",
     "output_type": "stream",
     "text": [
      "0 37\n",
      "1 64\n"
     ]
    },
    {
     "data": {
      "text/plain": [
       "<matplotlib.legend.Legend at 0x7fed3b09e0f0>"
      ]
     },
     "execution_count": 428,
     "metadata": {},
     "output_type": "execute_result"
    },
    {
     "data": {
      "image/png": "[encoded data removed]",
      "text/plain": [
       "<Figure size 432x288 with 1 Axes>"
      ]
     },
     "metadata": {},
     "output_type": "display_data"
    }
   ],
   "source": [
    "from sklearn.cluster import KMeans\n",
    "y = KMeans(n_clusters=2, n_init = 1000).fit_predict(PCA(10).fit_transform(delta))\n",
    "import matplotlib.pylab as plt\n",
    "%matplotlib inline\n",
    "classes = [i for i in range(min(y), max(y)+1)]\n",
    "for y_ in classes:\n",
    "    delta_1 = delta_[[ind for ind,i in enumerate(delta_) if y[ind]==y_]]\n",
    "    print(y_, len(delta_1))\n",
    "    plt.plot(delta_1[:,0], delta_1[:,1], 'o')\n",
    "plt.legend(classes)"
   ]
  },
  {
   "cell_type": "code",
   "execution_count": 450,
   "metadata": {
    "collapsed": false
   },
   "outputs": [
    {
     "name": "stdout",
     "output_type": "stream",
     "text": [
      "(101, 198)\n",
      "(101, 5)\n"
     ]
    },
    {
     "data": {
      "text/plain": [
       "Index(['Средняя длина слов (в количестве символов)',\n",
       "       'Доля глаголов прошедшего времени, первого лица, единственного числа',\n",
       "       'Коэффициент Трейгера', 'Часть речи: местоимение-существительное',\n",
       "       'Сем. связь: DLB'],\n",
       "      dtype='object')"
      ]
     },
     "execution_count": 450,
     "metadata": {},
     "output_type": "execute_result"
    }
   ],
   "source": [
    "X, y = delta, y\n",
    "print(X.shape)\n",
    "from sklearn.svm import LinearSVC\n",
    "from sklearn.feature_selection import SelectFromModel\n",
    "lsvc = LinearSVC(C=0.015, penalty=\"l1\", dual=False).fit(X, y)\n",
    "model = SelectFromModel(lsvc, prefit=True)\n",
    "X_new = model.transform(X)\n",
    "print(X_new.shape)\n",
    "_ = model.get_support()\n",
    "keys[[ind for ind, i in enumerate(_) if i]]"
   ]
  },
  {
   "cell_type": "markdown",
   "metadata": {},
   "source": [
    "## Тональность"
   ]
  },
  {
   "cell_type": "code",
   "execution_count": 406,
   "metadata": {
    "collapsed": false
   },
   "outputs": [],
   "source": [
    "import pandas as pd\n",
    "import numpy as np\n",
    "calm = pd.read_csv('calm.csv', ';').sort_values(by = ['ID'])\n",
    "frust = pd.read_csv('frustration.csv', ';').sort_values(by = ['ID'])\n",
    "keys = [i for i in calm.columns if 'Тональность' in i]\n",
    "calm, frust = calm[keys].values, frust[keys].values\n",
    "delta = calm-frust"
   ]
  },
  {
   "cell_type": "code",
   "execution_count": 407,
   "metadata": {
    "collapsed": false
   },
   "outputs": [
    {
     "data": {
      "text/plain": [
       "[<matplotlib.lines.Line2D at 0x7fed3b365b70>]"
      ]
     },
     "execution_count": 407,
     "metadata": {},
     "output_type": "execute_result"
    },
    {
     "data": {
      "image/png": "[encoded data removed]",
      "text/plain": [
       "<Figure size 432x288 with 1 Axes>"
      ]
     },
     "metadata": {},
     "output_type": "display_data"
    }
   ],
   "source": [
    "import matplotlib.pylab as plt\n",
    "%matplotlib inline\n",
    "plt.plot(delta[:, 0], delta[:, 1], 'o')"
   ]
  },
  {
   "cell_type": "code",
   "execution_count": 408,
   "metadata": {
    "collapsed": false,
    "scrolled": true
   },
   "outputs": [
    {
     "name": "stdout",
     "output_type": "stream",
     "text": [
      "Mean distance between point in segment [0,200] is equal to 1.6813186813186813\n"
     ]
    }
   ],
   "source": [
    "delta = list(delta[:,0])\n",
    "delta.sort()\n",
    "delta_ = [delta[ind+1]-i for ind,i in enumerate(delta[:-1]) if 0<i<200 and 0<delta[ind+1]<200]\n",
    "print('Mean distance between point in segment [0,200] is equal to',sum(delta_)/len(delta_))"
   ]
  },
  {
   "cell_type": "markdown",
   "metadata": {},
   "source": [
    "# Clusterization of Pairs"
   ]
  },
  {
   "cell_type": "code",
   "execution_count": 467,
   "metadata": {
    "collapsed": false
   },
   "outputs": [
    {
     "name": "stdout",
     "output_type": "stream",
     "text": [
      "396\n"
     ]
    }
   ],
   "source": [
    "import pandas as pd\n",
    "import numpy as np\n",
    "calm = pd.read_csv('calm.csv', ';').sort_values(by = ['ID'])\n",
    "frust = pd.read_csv('frustration.csv', ';').sort_values(by = ['ID'])\n",
    "#keys = [i for i in calm.columns if 'Тональность' in i] + ['ID']\n",
    "keys = ['ID']\n",
    "for i in keys:\n",
    "    del calm[i], frust[i]\n",
    "keys = np.hstack((calm.columns,frust.columns))\n",
    "print(len(keys))"
   ]
  },
  {
   "cell_type": "code",
   "execution_count": 468,
   "metadata": {
    "collapsed": false
   },
   "outputs": [],
   "source": [
    "calm, frust = calm.values, frust.values\n",
    "delta = np.hstack((calm, frust))"
   ]
  },
  {
   "cell_type": "code",
   "execution_count": 469,
   "metadata": {
    "collapsed": false
   },
   "outputs": [],
   "source": [
    "from sklearn.preprocessing import scale\n",
    "delta =scale(delta)"
   ]
  },
  {
   "cell_type": "markdown",
   "metadata": {},
   "source": [
    "## Visualization"
   ]
  },
  {
   "cell_type": "code",
   "execution_count": 470,
   "metadata": {
    "collapsed": false
   },
   "outputs": [
    {
     "name": "stdout",
     "output_type": "stream",
     "text": [
      "(101, 396)\n"
     ]
    },
    {
     "data": {
      "text/plain": [
       "[<matplotlib.lines.Line2D at 0x7fed3ae69fd0>]"
      ]
     },
     "execution_count": 470,
     "metadata": {},
     "output_type": "execute_result"
    },
    {
     "data": {
      "image/png": "[encoded data removed]",
      "text/plain": [
       "<Figure size 432x288 with 1 Axes>"
      ]
     },
     "metadata": {},
     "output_type": "display_data"
    }
   ],
   "source": [
    "from sklearn.decomposition import PCA\n",
    "print(delta.shape)\n",
    "pca = PCA(100).fit(delta)\n",
    "y = pca.explained_variance_ratio_\n",
    "import matplotlib.pylab as plt\n",
    "%matplotlib inline\n",
    "plt.plot([i for i in range(len(y))], y)\n",
    "#keys[pca.mean_.argmax()]"
   ]
  },
  {
   "cell_type": "code",
   "execution_count": 471,
   "metadata": {
    "collapsed": false,
    "scrolled": false
   },
   "outputs": [
    {
     "data": {
      "text/plain": [
       "[<matplotlib.lines.Line2D at 0x7fed3ae1ecc0>]"
      ]
     },
     "execution_count": 471,
     "metadata": {},
     "output_type": "execute_result"
    },
    {
     "data": {
      "image/png": "[encoded data removed]",
      "text/plain": [
       "<Figure size 432x288 with 1 Axes>"
      ]
     },
     "metadata": {},
     "output_type": "display_data"
    }
   ],
   "source": [
    "pca = PCA(2).fit(delta)\n",
    "delta_ = pca.transform(delta)\n",
    "import matplotlib.pylab as plt\n",
    "%matplotlib inline\n",
    "plt.plot(delta_[:,0], delta_[:,1], 'ro')"
   ]
  },
  {
   "cell_type": "markdown",
   "metadata": {},
   "source": [
    "## Clustering"
   ]
  },
  {
   "cell_type": "code",
   "execution_count": 472,
   "metadata": {
    "collapsed": false
   },
   "outputs": [
    {
     "name": "stdout",
     "output_type": "stream",
     "text": [
      "0 38\n",
      "1 63\n"
     ]
    },
    {
     "data": {
      "text/plain": [
       "<matplotlib.legend.Legend at 0x7fed3aea4f60>"
      ]
     },
     "execution_count": 472,
     "metadata": {},
     "output_type": "execute_result"
    },
    {
     "data": {
      "image/png": "[encoded data removed]",
      "text/plain": [
       "<Figure size 432x288 with 1 Axes>"
      ]
     },
     "metadata": {},
     "output_type": "display_data"
    }
   ],
   "source": [
    "from sklearn.cluster import KMeans\n",
    "y = KMeans(n_clusters=2, n_init = 1000, n_jobs = -1).fit_predict(PCA(10).fit_transform(delta))\n",
    "import matplotlib.pylab as plt\n",
    "%matplotlib inline\n",
    "classes = [i for i in range(min(y), max(y)+1)]\n",
    "for y_ in classes:\n",
    "    delta_1 = delta_[[ind for ind,i in enumerate(delta_) if y[ind]==y_]]\n",
    "    print(y_, len(delta_1))\n",
    "    plt.plot(delta_1[:,0], delta_1[:,1], 'o')\n",
    "plt.legend(classes)"
   ]
  },
  {
   "cell_type": "code",
   "execution_count": 474,
   "metadata": {
    "collapsed": false,
    "scrolled": true
   },
   "outputs": [
    {
     "name": "stdout",
     "output_type": "stream",
     "text": [
      "(101, 396)\n",
      "(101, 10)\n"
     ]
    },
    {
     "data": {
      "text/plain": [
       "array(['Средняя длина слов (в количестве символов)',\n",
       "       'Словарь: Канцеляризмы', 'Часть речи: местоимение-существительное',\n",
       "       'Число знаков пунктуации / Число слов',\n",
       "       'Средняя длина слов (в количестве символов)',\n",
       "       'Причастия + деепричастия / Число предложений',\n",
       "       'Доля глаголов 2 лица', 'Словарь: Компьютерный жаргон',\n",
       "       'Часть речи: прилагательное', 'Часть речи: глагол'], dtype=object)"
      ]
     },
     "execution_count": 474,
     "metadata": {},
     "output_type": "execute_result"
    }
   ],
   "source": [
    "X, y = delta, y\n",
    "print(X.shape)\n",
    "from sklearn.svm import LinearSVC\n",
    "from sklearn.feature_selection import SelectFromModel\n",
    "lsvc = LinearSVC(C=0.02, penalty=\"l1\", dual=False).fit(X, y)\n",
    "model = SelectFromModel(lsvc, prefit=True)\n",
    "X_new = model.transform(X)\n",
    "print(X_new.shape)\n",
    "_ = model.get_support()\n",
    "keys[[ind for ind, i in enumerate(_) if i]]"
   ]
  },
  {
   "cell_type": "markdown",
   "metadata": {},
   "source": [
    "## Тональность"
   ]
  },
  {
   "cell_type": "code",
   "execution_count": 389,
   "metadata": {
    "collapsed": false
   },
   "outputs": [],
   "source": [
    "import pandas as pd\n",
    "import numpy as np\n",
    "calm = pd.read_csv('calm.csv', ';').sort_values(by = ['ID'])\n",
    "frust = pd.read_csv('frustration.csv', ';').sort_values(by = ['ID'])\n",
    "keys = ['Тональность слов (по округленным значениям)']\n",
    "calm, frust = calm[keys].values, frust[keys].values\n",
    "delta = np.hstack((calm, frust))"
   ]
  },
  {
   "cell_type": "code",
   "execution_count": 395,
   "metadata": {
    "collapsed": false
   },
   "outputs": [
    {
     "data": {
      "text/plain": [
       "[<matplotlib.lines.Line2D at 0x7fed3b527f28>]"
      ]
     },
     "execution_count": 395,
     "metadata": {},
     "output_type": "execute_result"
    },
    {
     "data": {
      "image/png": "[encoded data removed]",
      "text/plain": [
       "<Figure size 432x288 with 1 Axes>"
      ]
     },
     "metadata": {},
     "output_type": "display_data"
    }
   ],
   "source": [
    "import matplotlib.pylab as plt\n",
    "%matplotlib inline\n",
    "plt.plot(delta[:,0], delta[:,1], 'o')"
   ]
  },
  {
   "cell_type": "code",
   "execution_count": null,
   "metadata": {
    "collapsed": true
   },
   "outputs": [],
   "source": []
  }
 ],
 "metadata": {
  "anaconda-cloud": {},
  "kernelspec": {
   "display_name": "Python [conda root]",
   "language": "python",
   "name": "conda-root-py"
  },
  "language_info": {
   "codemirror_mode": {
    "name": "ipython",
    "version": 3
   },
   "file_extension": ".py",
   "mimetype": "text/x-python",
   "name": "python",
   "nbconvert_exporter": "python",
   "pygments_lexer": "ipython3",
   "version": "3.5.2"
  }
 },
 "nbformat": 4,
 "nbformat_minor": 1
}
