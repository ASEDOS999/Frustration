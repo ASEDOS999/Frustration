{
 "cells": [
  {
   "cell_type": "markdown",
   "metadata": {},
   "source": [
    "# Not Scaled Data"
   ]
  },
  {
   "cell_type": "code",
   "execution_count": 53,
   "metadata": {},
   "outputs": [],
   "source": [
    "keys = [' E', ' E1', ' e_', ' M', ' M1', ' m_', ' I', ' I1', ' i_']\n",
    "\n",
    "keys1 = [[' E', ' E1', ' e_'],\n",
    "         [' M', ' M1', ' m_'],\n",
    "         [' I', ' I1', ' i_']]\n",
    "\n",
    "keys2 = [[' E', ' M', ' I'],\n",
    "        [' E1', ' M1', ' I1'],\n",
    "        [' e_', ' m_', ' i_']]\n",
    "def get_y(keys, data, init_keys = keys):\n",
    "    y = []\n",
    "    for ind, i in enumerate(init_keys):\n",
    "        for ind1, j in enumerate(keys):\n",
    "            if i in j:\n",
    "                y.append(ind1 * np.ones(len(data[i])))\n",
    "    return np.hstack(y)\n",
    "def find_y(key, keys):\n",
    "    for ind,i in enumerate(keys):\n",
    "        if key in i:\n",
    "            return ind"
   ]
  },
  {
   "cell_type": "code",
   "execution_count": 54,
   "metadata": {},
   "outputs": [
    {
     "name": "stdout",
     "output_type": "stream",
     "text": [
      "dict_keys([' E', ' E1', ' e_', ' M', ' M1', ' m_', ' I', ' I1', ' i_'])\n"
     ]
    }
   ],
   "source": [
    "import json\n",
    "with open(\"p3_texts.json\", \"r\") as f:\n",
    "    texts = f.read()\n",
    "    texts = json.loads(texts)\n",
    "    f.close()\n",
    "data = dict()\n",
    "for key in keys:\n",
    "    if key[-1] == '1':\n",
    "        key1 = key[:-1] + \"'\"\n",
    "    else:\n",
    "        key1 = key\n",
    "    data[key] = texts['P3:' + key1]\n",
    "print(data.keys())\n"
   ]
  },
  {
   "cell_type": "markdown",
   "metadata": {},
   "source": [
    "# The First Union"
   ]
  },
  {
   "cell_type": "code",
   "execution_count": 55,
   "metadata": {
    "scrolled": true
   },
   "outputs": [
    {
     "data": {
      "text/plain": [
       "267"
      ]
     },
     "execution_count": 55,
     "metadata": {},
     "output_type": "execute_result"
    }
   ],
   "source": [
    "import numpy as np\n",
    "Y = []\n",
    "X = []\n",
    "for key in keys:\n",
    "    y = find_y(key, keys2)\n",
    "    for text in data[key]:\n",
    "        X.append(text)\n",
    "        Y.append(y)\n",
    "y = np.array(Y)\n",
    "len(X)"
   ]
  },
  {
   "cell_type": "code",
   "execution_count": 56,
   "metadata": {},
   "outputs": [],
   "source": [
    "from sklearn.preprocessing import LabelBinarizer\n",
    "lb = LabelBinarizer()\n",
    "lb.fit(y)\n",
    "y = lb.transform(y)"
   ]
  },
  {
   "cell_type": "code",
   "execution_count": 57,
   "metadata": {},
   "outputs": [],
   "source": [
    "from sklearn.feature_extraction.text import CountVectorizer\n",
    "vectorizer = CountVectorizer()\n",
    "X = vectorizer.fit_transform(X)\n",
    "X = X.toarray()"
   ]
  },
  {
   "cell_type": "code",
   "execution_count": 61,
   "metadata": {},
   "outputs": [
    {
     "name": "stdout",
     "output_type": "stream",
     "text": [
      "(200, 4085)\n"
     ]
    },
    {
     "data": {
      "text/plain": [
       "[0.007042253521126761, 0.034482758620689655, 0.034482758620689655]"
      ]
     },
     "execution_count": 61,
     "metadata": {},
     "output_type": "execute_result"
    }
   ],
   "source": [
    "import torch\n",
    "from sklearn.model_selection import train_test_split\n",
    "X_train, X_test, y_train, y_test = train_test_split(X, y)\n",
    "\n",
    "from torch import nn\n",
    "import torch.nn.functional as F\n",
    "\n",
    "print(X_train.shape)\n",
    "model = nn.Sequential()\n",
    "model.add_module(name='layer1', module=nn.Linear(4085, 1000))\n",
    "model.add_module(name='layer2', module=nn.ReLU())\n",
    "model.add_module(name='layer3', module=nn.Linear(1000, 1000))\n",
    "model.add_module(name='layer4', module=nn.ReLU())\n",
    "model.add_module(name='layer5', module=nn.Linear(1000, 100))\n",
    "model.add_module(name='layer6', module=nn.ReLU())\n",
    "model.add_module(name='layer7', module=nn.Linear(100, 100))\n",
    "model.add_module(name='layer8', module=nn.ReLU())\n",
    "model.add_module(name='layer9', module=nn.Linear(100, 3))\n",
    "model.add_module(name='layer10', module=nn.Softmax(dim = 1))\n",
    "\n",
    "base_model = model\n",
    "\n",
    "x_train = torch.tensor(X_train, dtype=torch.float32)\n",
    "#y_train = torch.tensor(y_train, dtype=torch.float32)\n",
    "class_weight = [len([j for j in y_train if j[i] == 1]) for i in range(3)]\n",
    "class_weight = [1/j for j in class_weight]\n",
    "class_weight"
   ]
  },
  {
   "cell_type": "code",
   "execution_count": 64,
   "metadata": {},
   "outputs": [
    {
     "name": "stdout",
     "output_type": "stream",
     "text": [
      "step #0 | mean loss = 0.000001\n",
      "step #100 | mean loss = 0.000000\n",
      "step #200 | mean loss = 0.000000\n",
      "step #300 | mean loss = 0.000000\n",
      "step #400 | mean loss = 0.000000\n",
      "step #499 | mean loss = 0.000000\n"
     ]
    }
   ],
   "source": [
    "opt = torch.optim.Adam(model.parameters(), lr=1e-3)\n",
    "\n",
    "history = []\n",
    "for i in range(500):\n",
    "    \n",
    "    ix = np.random.randint(0, len(X_train), 10)\n",
    "    x_batch = torch.tensor(X_train[ix], dtype=torch.float32)\n",
    "    y_batch = torch.tensor(y_train[ix], dtype=torch.float32)\n",
    "    \n",
    "    # predict probabilities\n",
    "    y_predicted = model(x_batch)\n",
    "\n",
    "    # compute loss, just like before\n",
    "    loss = F.binary_cross_entropy(y_predicted, y_batch)\n",
    "    \n",
    "    # compute gradients\n",
    "    loss.backward()\n",
    "    \n",
    "    # Adam step\n",
    "    opt.step()\n",
    "    \n",
    "    # clear gradients\n",
    "    opt.zero_grad()\n",
    "    \n",
    "    history.append(loss.data.numpy())\n",
    "    \n",
    "    if i % 100 == 0:\n",
    "        print(\"step #%i | mean loss = %.6f\" % (i, np.mean(history[-10:])))\n",
    "print(\"step #%i | mean loss = %.6f\" % (i, np.mean(history[-10:])))"
   ]
  },
  {
   "cell_type": "code",
   "execution_count": 65,
   "metadata": {},
   "outputs": [
    {
     "data": {
      "text/plain": [
       "0.3438515968636451"
      ]
     },
     "execution_count": 65,
     "metadata": {},
     "output_type": "execute_result"
    }
   ],
   "source": [
    "from sklearn.metrics import f1_score\n",
    "y_pred = model(torch.tensor(X_test, dtype=torch.float32)).data.numpy()\n",
    "f1_score(y_pred.argmax(axis = 1), y_test.argmax(axis=1), average = 'macro')"
   ]
  },
  {
   "cell_type": "markdown",
   "metadata": {},
   "source": [
    "# The full feature"
   ]
  },
  {
   "cell_type": "code",
   "execution_count": 66,
   "metadata": {},
   "outputs": [],
   "source": [
    "import pandas as pd\n",
    "xls = pd.ExcelFile(\"Фрустрация.xlsx\")\n",
    "data = pd.read_excel(xls, xls.sheet_names)    "
   ]
  },
  {
   "cell_type": "code",
   "execution_count": 67,
   "metadata": {},
   "outputs": [],
   "source": [
    "keys = [' E', ' E1', ' e_', ' M', ' M1', ' m_', ' I', ' I1', ' i_']\n",
    "\n",
    "keys1 = [[' E', ' E1', ' e_'],\n",
    "         [' M', ' M1', ' m_'],\n",
    "         [' I', ' I1', ' i_']]\n",
    "\n",
    "keys2 = [[' E', ' M', ' I'],\n",
    "        [' E1', ' M1', ' I1'],\n",
    "        [' e_', ' m_', ' i_']]\n",
    "def get_y(keys, data, init_keys = keys):\n",
    "    y = []\n",
    "    for ind, i in enumerate(init_keys):\n",
    "        for ind1, j in enumerate(keys):\n",
    "            if i in j:\n",
    "                y.append(ind1 * np.ones(len(data[i])))\n",
    "    return np.hstack(y)"
   ]
  },
  {
   "cell_type": "code",
   "execution_count": 68,
   "metadata": {},
   "outputs": [],
   "source": [
    "def extract(list_of_texts):\n",
    "    res = []\n",
    "    for s in list_of_texts:\n",
    "        k = 0\n",
    "        for c in s:\n",
    "            if c.islower():\n",
    "                k += 1\n",
    "        res.append(k/len(s))\n",
    "    \n",
    "    return pd.DataFrame({\"Доля\":res})"
   ]
  },
  {
   "cell_type": "code",
   "execution_count": 69,
   "metadata": {},
   "outputs": [
    {
     "name": "stdout",
     "output_type": "stream",
     "text": [
      "dict_keys(['P3: E', 'P3: M', 'P3: m_', 'P3: e_', \"P3: I'\", \"P3: E'\", 'P3: i_', \"P3: M'\", 'P3: инф', 'P3: I', 'P3: n (\"надо\")'])\n"
     ]
    }
   ],
   "source": [
    "import json\n",
    "with open(\"p3_texts.json\", \"r\") as f:\n",
    "    texts = f.read()\n",
    "    texts = json.loads(texts)\n",
    "    f.close()\n",
    "print(texts.keys())\n",
    "for key in keys:\n",
    "    if key[-1] == '1':\n",
    "        key1 = key[:-1] + \"'\"\n",
    "    else:\n",
    "        key1 = key\n",
    "    data[key] = data[key].join( extract(texts['P3:' + key1]), rsuffix = \"___\")"
   ]
  },
  {
   "cell_type": "code",
   "execution_count": 70,
   "metadata": {},
   "outputs": [
    {
     "data": {
      "text/plain": [
       "(267, 243)"
      ]
     },
     "execution_count": 70,
     "metadata": {},
     "output_type": "execute_result"
    }
   ],
   "source": [
    "import numpy as np\n",
    "from sklearn.preprocessing import scale\n",
    "X_1 = np.vstack([data[i].values for i in keys])\n",
    "X_1 = X_1[:, 1:]\n",
    "X_1.shape"
   ]
  },
  {
   "cell_type": "code",
   "execution_count": 71,
   "metadata": {},
   "outputs": [
    {
     "data": {
      "text/plain": [
       "(267, 4085)"
      ]
     },
     "execution_count": 71,
     "metadata": {},
     "output_type": "execute_result"
    }
   ],
   "source": [
    "X.shape"
   ]
  },
  {
   "cell_type": "code",
   "execution_count": 72,
   "metadata": {},
   "outputs": [
    {
     "data": {
      "text/plain": [
       "(267, 4328)"
      ]
     },
     "execution_count": 72,
     "metadata": {},
     "output_type": "execute_result"
    }
   ],
   "source": [
    "X = np.hstack([X, X_1])\n",
    "X.shape"
   ]
  },
  {
   "cell_type": "code",
   "execution_count": 80,
   "metadata": {},
   "outputs": [
    {
     "name": "stdout",
     "output_type": "stream",
     "text": [
      "(200, 4328)\n"
     ]
    },
    {
     "data": {
      "text/plain": [
       "[0.006944444444444444, 0.043478260869565216, 0.030303030303030304]"
      ]
     },
     "execution_count": 80,
     "metadata": {},
     "output_type": "execute_result"
    }
   ],
   "source": [
    "import torch\n",
    "from sklearn.model_selection import train_test_split\n",
    "X_train, X_test, y_train, y_test = train_test_split(X, y)\n",
    "\n",
    "from torch import nn\n",
    "import torch.nn.functional as F\n",
    "\n",
    "print(X_train.shape)\n",
    "model = nn.Sequential()\n",
    "model.add_module(name='layer1', module=nn.Linear(4328, 10000))\n",
    "model.add_module(name='layer2', module=nn.ReLU())\n",
    "model.add_module(name='drop', module=nn.Dropout())\n",
    "model.add_module(name='layer3', module=nn.Linear(10000, 1000))\n",
    "model.add_module(name='layer4', module=nn.ReLU())\n",
    "model.add_module(name='drop', module=nn.Dropout())\n",
    "model.add_module(name='layer5', module=nn.Linear(1000, 100))\n",
    "model.add_module(name='layer6', module=nn.ReLU())\n",
    "model.add_module(name='layer7', module=nn.Linear(100, 3))\n",
    "model.add_module(name='layer10', module=nn.Softmax(dim = 1))\n",
    "\n",
    "base_model = model\n",
    "\n",
    "x_train = torch.tensor(X_train, dtype=torch.float32)\n",
    "#y_train = torch.tensor(y_train, dtype=torch.float32)\n",
    "class_weight = [len([j for j in y_train if j[i] == 1]) for i in range(3)]\n",
    "class_weight = [1/j for j in class_weight]\n",
    "class_weight"
   ]
  },
  {
   "cell_type": "code",
   "execution_count": 81,
   "metadata": {},
   "outputs": [
    {
     "name": "stdout",
     "output_type": "stream",
     "text": [
      "step #0 | mean loss = 0.013172\n",
      "step #100 | mean loss = 0.009012\n",
      "step #200 | mean loss = 0.009473\n",
      "step #300 | mean loss = 0.005328\n",
      "step #399 | mean loss = 0.002481\n"
     ]
    }
   ],
   "source": [
    "opt = torch.optim.Adam(model.parameters(), lr=1e-4)\n",
    "\n",
    "history = []\n",
    "for i in range(400):\n",
    "    \n",
    "    ix = np.random.randint(0, len(X_train), 10)\n",
    "    x_batch = torch.tensor(X_train[ix], dtype=torch.float32)\n",
    "    y_batch = torch.tensor(y_train[ix], dtype=torch.float32)\n",
    "    \n",
    "    y_predicted = model(x_batch)\n",
    "\n",
    "    loss = F.binary_cross_entropy(y_predicted, y_batch, weight = torch.tensor(class_weight, dtype=torch.float32))\n",
    "    \n",
    "    loss.backward()\n",
    "    \n",
    "    opt.step()\n",
    "    \n",
    "    opt.zero_grad()\n",
    "    \n",
    "    history.append(loss.data.numpy())\n",
    "    \n",
    "    if i % 100 == 0:\n",
    "        print(\"step #%i | mean loss = %.6f\" % (i, np.mean(history[-10:])))\n",
    "print(\"step #%i | mean loss = %.6f\" % (i, np.mean(history[-10:])))"
   ]
  },
  {
   "cell_type": "code",
   "execution_count": 82,
   "metadata": {},
   "outputs": [
    {
     "data": {
      "text/plain": [
       "0.24358974358974358"
      ]
     },
     "execution_count": 82,
     "metadata": {},
     "output_type": "execute_result"
    }
   ],
   "source": [
    "from sklearn.metrics import f1_score\n",
    "y_pred = model(torch.tensor(X_test, dtype=torch.float32)).data.numpy()\n",
    "f1_score(y_pred.argmax(axis = 1), y_test.argmax(axis=1), average = 'macro')"
   ]
  },
  {
   "cell_type": "code",
   "execution_count": 103,
   "metadata": {},
   "outputs": [],
   "source": [
    "import numpy as np\n",
    "import pandas as pd\n",
    "\n",
    "import torch\n",
    "from torch import nn\n",
    "import torch.nn.functional as F\n",
    "\n",
    "import tqdm\n",
    "\n",
    "class TwoInputsNet(nn.Module):\n",
    "    def __init__(self, n_tokens, n_psycho_features, concat_number_of_features, hid_size=100):\n",
    "        super(TwoInputsNet, self).__init__()\n",
    "        self.words = []\n",
    "        self.words.append(nn.Linear(in_features = n_tokens, out_features = 1000))\n",
    "        self.words.append(nn.Dropout())\n",
    "        self.words.append(nn.ReLU())\n",
    "        self.words.append(nn.Linear(in_features = 1000, out_features = 1000))\n",
    "        self.words.append(nn.Dropout())\n",
    "        self.words.append(nn.ReLU())\n",
    "        self.words.append(nn.Linear(in_features = 1000, out_features = hid_size))\n",
    "        self.words.append(nn.ReLU())\n",
    "        [self.add_module(name = \"words_layer%d\"%(idx), module = layer) for idx, layer in enumerate(self.words)]\n",
    "\n",
    "\n",
    "\n",
    "        self.psycho = []\n",
    "        self.psycho.append(nn.Linear(in_features = n_psycho_features, out_features = 100)\n",
    ")\n",
    "        self.words.append(nn.Dropout())\n",
    "        self.psycho.append(nn.ReLU())\n",
    "        self.psycho.append(nn.Linear(in_features = 100, out_features = concat_number_of_features - hid_size)\n",
    ")\n",
    "        self.words.append(nn.Dropout())\n",
    "        self.psycho.append(nn.ReLU())\n",
    "        [self.add_module(name = \"psycho_layer%d\"%(idx), module = layer) for idx, layer in enumerate(self.words)]\n",
    "\n",
    "        # Example for the final layers (after the concatenation)\n",
    "        self.final_denses = []\n",
    "        self.final_denses.append(nn.BatchNorm1d(concat_number_of_features))\n",
    "        self.final_denses.append(nn.Linear(in_features=concat_number_of_features, out_features=100))\n",
    "        self.final_denses.append(nn.ReLU())\n",
    "        self.final_denses.append(nn.Linear(in_features=100, out_features=3))\n",
    "        self.final_denses.append(nn.Softmax(dim = 1))\n",
    "        [self.add_module(name = \"final_layer%d\"%(idx), module = layer) for idx, layer in enumerate(self.final_denses)]\n",
    "\n",
    "        \n",
    "\n",
    "    def forward(self, whole_input):\n",
    "        input1, input2  = whole_input\n",
    "        for layer in self.words:\n",
    "            input1 = layer(input1)\n",
    "        \n",
    "        for layer in self.psycho:\n",
    "            input2 = layer(input2)\n",
    "        concatenated = torch.cat(\n",
    "            [\n",
    "                input1.view(input1.size(0), -1),\n",
    "                input2.view(input2.size(0), -1)\n",
    "            ],\n",
    "            dim=1)\n",
    "        out = concatenated\n",
    "        for layer in self.final_denses:\n",
    "            out = layer(out)\n",
    "        \n",
    "        return out"
   ]
  },
  {
   "cell_type": "code",
   "execution_count": 128,
   "metadata": {},
   "outputs": [
    {
     "data": {
      "text/plain": [
       "[0.006993006993006993, 0.041666666666666664, 0.030303030303030304]"
      ]
     },
     "execution_count": 128,
     "metadata": {},
     "output_type": "execute_result"
    }
   ],
   "source": [
    "X_train, X_test, y_train, y_test = train_test_split(X, y)\n",
    "model = TwoInputsNet(4085, 4328-4085, 200)\n",
    "class_weight = [len([j for j in y_train if j[i] == 1]) for i in range(3)]\n",
    "class_weight = [1/j for j in class_weight]\n",
    "class_weight"
   ]
  },
  {
   "cell_type": "code",
   "execution_count": 129,
   "metadata": {},
   "outputs": [
    {
     "name": "stdout",
     "output_type": "stream",
     "text": [
      "step #0 | mean loss = 0.014263\n",
      "step #100 | mean loss = 0.012795\n",
      "step #200 | mean loss = 0.011310\n",
      "step #300 | mean loss = 0.011490\n",
      "step #400 | mean loss = 0.010751\n",
      "step #500 | mean loss = 0.010306\n",
      "step #600 | mean loss = 0.011058\n",
      "step #700 | mean loss = 0.008826\n",
      "step #800 | mean loss = 0.007771\n",
      "step #900 | mean loss = 0.006913\n",
      "step #1000 | mean loss = 0.004849\n",
      "step #1100 | mean loss = 0.003453\n",
      "step #1200 | mean loss = 0.003835\n",
      "step #1300 | mean loss = 0.003351\n",
      "step #1400 | mean loss = 0.002351\n",
      "step #1500 | mean loss = 0.002010\n",
      "step #1600 | mean loss = 0.002166\n",
      "step #1700 | mean loss = 0.001178\n",
      "step #1800 | mean loss = 0.001394\n",
      "step #1900 | mean loss = 0.001195\n",
      "step #2000 | mean loss = 0.000578\n",
      "step #2100 | mean loss = 0.000807\n",
      "step #2200 | mean loss = 0.000931\n",
      "step #2300 | mean loss = 0.000947\n",
      "step #2399 | mean loss = 0.000280\n"
     ]
    }
   ],
   "source": [
    "\n",
    "opt = torch.optim.Adam(model.parameters(), lr=1e-4)\n",
    "\n",
    "history = []\n",
    "for i in range(2400):\n",
    "    \n",
    "    ix = np.random.randint(0, len(X_train), 10) \n",
    "    x_batch = torch.tensor(X_train[ix], dtype=torch.float32)\n",
    "    y_batch = torch.tensor(y_train[ix], dtype=torch.float32)\n",
    "    \n",
    "    y_predicted = model((x_batch[:, :4085], x_batch[:, 4085:]))\n",
    "\n",
    "    loss = F.binary_cross_entropy(y_predicted, y_batch, weight = torch.tensor(class_weight, dtype=torch.float32))\n",
    "    \n",
    "    loss.backward()\n",
    "    \n",
    "    opt.step()\n",
    "    \n",
    "    opt.zero_grad()\n",
    "    \n",
    "    history.append(loss.data.numpy())\n",
    "    \n",
    "    if i % 100 == 0:\n",
    "        print(\"step #%i | mean loss = %.6f\" % (i, np.mean(history[-10:])))\n",
    "print(\"step #%i | mean loss = %.6f\" % (i, np.mean(history[-10:])))"
   ]
  },
  {
   "cell_type": "code",
   "execution_count": 130,
   "metadata": {},
   "outputs": [
    {
     "data": {
      "text/plain": [
       "0.3599257884972171"
      ]
     },
     "execution_count": 130,
     "metadata": {},
     "output_type": "execute_result"
    }
   ],
   "source": [
    "from sklearn.metrics import f1_score\n",
    "x = torch.tensor(X_test, dtype=torch.float32)\n",
    "y_pred = model((x[:, :4085], x[:, 4085:])).data.numpy()\n",
    "f1_score(y_pred.argmax(axis = 1), y_test.argmax(axis=1), average = 'macro')"
   ]
  },
  {
   "cell_type": "code",
   "execution_count": null,
   "metadata": {},
   "outputs": [],
   "source": []
  }
 ],
 "metadata": {
  "kernelspec": {
   "display_name": "Python 3",
   "language": "python",
   "name": "python3"
  },
  "language_info": {
   "codemirror_mode": {
    "name": "ipython",
    "version": 3
   },
   "file_extension": ".py",
   "mimetype": "text/x-python",
   "name": "python",
   "nbconvert_exporter": "python",
   "pygments_lexer": "ipython3",
   "version": "3.7.3"
  }
 },
 "nbformat": 4,
 "nbformat_minor": 2
}
