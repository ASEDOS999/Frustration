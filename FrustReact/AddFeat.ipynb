{
 "cells": [
  {
   "cell_type": "markdown",
   "metadata": {},
   "source": [
    "# Not Scaled Data"
   ]
  },
  {
   "cell_type": "code",
   "execution_count": 9,
   "metadata": {},
   "outputs": [],
   "source": [
    "import pandas as pd\n",
    "xls = pd.ExcelFile(\"Фрустрация.xlsx\")\n",
    "data = pd.read_excel(xls, xls.sheet_names)    "
   ]
  },
  {
   "cell_type": "code",
   "execution_count": 10,
   "metadata": {},
   "outputs": [],
   "source": [
    "keys = [' E', ' E1', ' e_', ' M', ' M1', ' m_', ' I', ' I1', ' i_']\n",
    "\n",
    "keys1 = [[' E', ' E1', ' e_'],\n",
    "         [' M', ' M1', ' m_'],\n",
    "         [' I', ' I1', ' i_']]\n",
    "\n",
    "keys2 = [[' E', ' M', ' I'],\n",
    "        [' E1', ' M1', ' I1'],\n",
    "        [' e_', ' m_', ' i_']]\n",
    "def get_y(keys, data, init_keys = keys):\n",
    "    y = []\n",
    "    for ind, i in enumerate(init_keys):\n",
    "        for ind1, j in enumerate(keys):\n",
    "            if i in j:\n",
    "                y.append(ind1 * np.ones(len(data[i])))\n",
    "    return np.hstack(y)"
   ]
  },
  {
   "cell_type": "code",
   "execution_count": 11,
   "metadata": {},
   "outputs": [
    {
     "data": {
      "text/plain": [
       "Index(['Unnamed: 0', 'Число восклицательных знаков',\n",
       "       'Число вопросительных знаков', 'Число слов', 'Число символов',\n",
       "       'Число уникальных слов', 'Число клауз', 'Число предложений',\n",
       "       'Число знаков препинания',\n",
       "       'Средняя длина предложения (в количестве слов)',\n",
       "       ...\n",
       "       'Синтакс. связь: nummod', 'Синтакс. связь: nummod:gov',\n",
       "       'Синтакс. связь: obj', 'Синтакс. связь: obl', 'Синтакс. связь: orphan',\n",
       "       'Синтакс. связь: parataxis', 'Синтакс. связь: punct',\n",
       "       'Синтакс. связь: root', 'Синтакс. связь: xcomp',\n",
       "       'Синтакс. связь: compound'],\n",
       "      dtype='object', length=243)"
      ]
     },
     "execution_count": 11,
     "metadata": {},
     "output_type": "execute_result"
    }
   ],
   "source": [
    "data[keys[0]].columns"
   ]
  },
  {
   "cell_type": "code",
   "execution_count": 49,
   "metadata": {},
   "outputs": [],
   "source": [
    "def extract(list_of_texts):\n",
    "    res = []\n",
    "    for s in list_of_texts:\n",
    "        k = 0\n",
    "        for c in s:\n",
    "            if c.islower():\n",
    "                k += 1\n",
    "        res.append(k/len(s))\n",
    "    \n",
    "    return pd.DataFrame({\"Доля\":res})"
   ]
  },
  {
   "cell_type": "code",
   "execution_count": 53,
   "metadata": {},
   "outputs": [
    {
     "name": "stdout",
     "output_type": "stream",
     "text": [
      "dict_keys(['P3: E', 'P3: M', 'P3: m_', 'P3: e_', \"P3: I'\", \"P3: E'\", 'P3: i_', \"P3: M'\", 'P3: инф', 'P3: I', 'P3: n (\"надо\")'])\n"
     ]
    }
   ],
   "source": [
    "import json\n",
    "with open(\"p3_texts.json\", \"r\") as f:\n",
    "    texts = f.read()\n",
    "    texts = json.loads(texts)\n",
    "    f.close()\n",
    "print(texts.keys())\n",
    "for key in keys:\n",
    "    if key[-1] == '1':\n",
    "        key1 = key[:-1] + \"'\"\n",
    "    else:\n",
    "        key1 = key\n",
    "    data[key] = data[key].join( extract(texts['P3:' + key1]), rsuffix = \"___\")"
   ]
  },
  {
   "cell_type": "code",
   "execution_count": 54,
   "metadata": {},
   "outputs": [],
   "source": [
    "import numpy as np\n",
    "from sklearn.preprocessing import scale\n",
    "X = np.vstack([data[i].values for i in keys])\n",
    "X = X[:, 1:]\n",
    "y1 = get_y(keys1, data)\n",
    "y2 = get_y(keys2, data)"
   ]
  },
  {
   "cell_type": "code",
   "execution_count": 55,
   "metadata": {},
   "outputs": [
    {
     "name": "stdout",
     "output_type": "stream",
     "text": [
      "Число слов 36.49063670411985\n"
     ]
    }
   ],
   "source": [
    "print(\"Число слов\", X[:, 2].mean())"
   ]
  },
  {
   "cell_type": "code",
   "execution_count": 56,
   "metadata": {},
   "outputs": [
    {
     "name": "stdout",
     "output_type": "stream",
     "text": [
      "Число предложений 3.4569288389513106\n"
     ]
    }
   ],
   "source": [
    "print(\"Число предложений\", X[:, 6].mean())"
   ]
  },
  {
   "cell_type": "code",
   "execution_count": 57,
   "metadata": {},
   "outputs": [
    {
     "name": "stdout",
     "output_type": "stream",
     "text": [
      "Число символов 188.49812734082397\n"
     ]
    }
   ],
   "source": [
    "print(\"Число символов\", X[:, 3].mean())"
   ]
  },
  {
   "cell_type": "code",
   "execution_count": 68,
   "metadata": {},
   "outputs": [],
   "source": [
    "X = scale(X)\n",
    "X_bin = np.where(X <= 0, 0, 1)"
   ]
  },
  {
   "cell_type": "markdown",
   "metadata": {},
   "source": [
    "## The First Union"
   ]
  },
  {
   "cell_type": "markdown",
   "metadata": {},
   "source": [
    "### 1. Not binarized data"
   ]
  },
  {
   "cell_type": "code",
   "execution_count": 71,
   "metadata": {
    "scrolled": true
   },
   "outputs": [
    {
     "name": "stdout",
     "output_type": "stream",
     "text": [
      "(267, 244)\n"
     ]
    },
    {
     "data": {
      "text/plain": [
       "0.40771426058987853"
      ]
     },
     "execution_count": 71,
     "metadata": {},
     "output_type": "execute_result"
    }
   ],
   "source": [
    "from sklearn.linear_model import LogisticRegression\n",
    "from sklearn.model_selection import cross_val_score\n",
    "from sklearn.utils import shuffle\n",
    "\n",
    "X_, y = shuffle(X, y1)\n",
    "print(X_.shape)\n",
    "model = LogisticRegression(penalty = \"l1\", solver = \"liblinear\", class_weight = \"balanced\", multi_class = \"ovr\")\n",
    "cross_val_score(model, X_, y, cv = 3, scoring = \"f1_macro\").mean()"
   ]
  },
  {
   "cell_type": "code",
   "execution_count": 72,
   "metadata": {
    "scrolled": true
   },
   "outputs": [
    {
     "name": "stdout",
     "output_type": "stream",
     "text": [
      "(267, 157)\n"
     ]
    },
    {
     "data": {
      "text/plain": [
       "0.3588310610957485"
      ]
     },
     "execution_count": 72,
     "metadata": {},
     "output_type": "execute_result"
    }
   ],
   "source": [
    "from sklearn.linear_model import LogisticRegression\n",
    "from sklearn.decomposition import PCA\n",
    "\n",
    "X_ = PCA(1 - 1e-3).fit(X_).transform(X_)\n",
    "print(X_.shape)\n",
    "model = LogisticRegression(penalty = \"l1\", solver = \"liblinear\", class_weight = \"balanced\", multi_class = \"ovr\")\n",
    "cross_val_score(model, X_, y, cv = 3, scoring = \"f1_macro\").mean()"
   ]
  },
  {
   "cell_type": "code",
   "execution_count": 73,
   "metadata": {},
   "outputs": [
    {
     "name": "stderr",
     "output_type": "stream",
     "text": [
      "/home/elias/anaconda3/lib/python3.7/site-packages/sklearn/metrics/classification.py:1143: UndefinedMetricWarning: F-score is ill-defined and being set to 0.0 in labels with no predicted samples.\n",
      "  'precision', 'predicted', average, warn_for)\n"
     ]
    },
    {
     "data": {
      "text/plain": [
       "0.2902479880897147"
      ]
     },
     "execution_count": 73,
     "metadata": {},
     "output_type": "execute_result"
    }
   ],
   "source": [
    "from sklearn.ensemble import GradientBoostingClassifier\n",
    "\n",
    "model = GradientBoostingClassifier(n_estimators = 1000, max_depth = 10)\n",
    "\n",
    "cross_val_score(model, X_, y, cv = 3, scoring = \"f1_macro\").mean()"
   ]
  },
  {
   "cell_type": "markdown",
   "metadata": {},
   "source": [
    "### 2. Binarized data"
   ]
  },
  {
   "cell_type": "code",
   "execution_count": 74,
   "metadata": {
    "scrolled": true
   },
   "outputs": [
    {
     "name": "stdout",
     "output_type": "stream",
     "text": [
      "(267, 244)\n"
     ]
    },
    {
     "data": {
      "text/plain": [
       "0.379303937888361"
      ]
     },
     "execution_count": 74,
     "metadata": {},
     "output_type": "execute_result"
    }
   ],
   "source": [
    "from sklearn.linear_model import LogisticRegression\n",
    "from sklearn.model_selection import cross_val_score\n",
    "from sklearn.utils import shuffle\n",
    "\n",
    "X_, y = shuffle(X_bin, y1)\n",
    "print(X_.shape)\n",
    "model = LogisticRegression(penalty = \"l1\", solver = \"liblinear\", class_weight = \"balanced\", multi_class = \"ovr\")\n",
    "cross_val_score(model, X_, y, cv = 3, scoring = \"f1_macro\").mean()"
   ]
  },
  {
   "cell_type": "code",
   "execution_count": 75,
   "metadata": {
    "scrolled": true
   },
   "outputs": [
    {
     "name": "stdout",
     "output_type": "stream",
     "text": [
      "(267, 157)\n"
     ]
    },
    {
     "data": {
      "text/plain": [
       "0.38142900787486106"
      ]
     },
     "execution_count": 75,
     "metadata": {},
     "output_type": "execute_result"
    }
   ],
   "source": [
    "from sklearn.linear_model import LogisticRegression\n",
    "\n",
    "X_ = PCA(1 - 1e-3).fit(X_).transform(X_)\n",
    "print(X_.shape)\n",
    "model = LogisticRegression(penalty = \"l1\", solver = \"liblinear\", class_weight = \"balanced\", multi_class = \"ovr\")\n",
    "cross_val_score(model, X_, y, cv = 3, scoring = \"f1_macro\").mean()"
   ]
  },
  {
   "cell_type": "code",
   "execution_count": 76,
   "metadata": {},
   "outputs": [
    {
     "data": {
      "text/plain": [
       "0.27696624752994825"
      ]
     },
     "execution_count": 76,
     "metadata": {},
     "output_type": "execute_result"
    }
   ],
   "source": [
    "from sklearn.ensemble import GradientBoostingClassifier\n",
    "\n",
    "model = GradientBoostingClassifier(n_estimators = 1000, max_depth = 10)\n",
    "\n",
    "cross_val_score(model, X_, y, cv = 3, scoring = \"f1_macro\").mean()"
   ]
  },
  {
   "cell_type": "markdown",
   "metadata": {},
   "source": [
    "## The Second Union"
   ]
  },
  {
   "cell_type": "markdown",
   "metadata": {},
   "source": [
    "### 1. Not binarized data"
   ]
  },
  {
   "cell_type": "code",
   "execution_count": 77,
   "metadata": {
    "scrolled": false
   },
   "outputs": [
    {
     "name": "stdout",
     "output_type": "stream",
     "text": [
      "(267, 244)\n"
     ]
    },
    {
     "data": {
      "text/plain": [
       "0.3347149968677063"
      ]
     },
     "execution_count": 77,
     "metadata": {},
     "output_type": "execute_result"
    }
   ],
   "source": [
    "from sklearn.linear_model import LogisticRegression\n",
    "from sklearn.model_selection import cross_val_score\n",
    "from sklearn.utils import shuffle\n",
    "\n",
    "X_, y = shuffle(X, y2)\n",
    "print(X_.shape)\n",
    "model = LogisticRegression(penalty = \"l1\", solver = \"liblinear\", class_weight = \"balanced\", multi_class = \"ovr\")\n",
    "cross_val_score(model, X_, y, cv = 3, scoring = \"f1_macro\").mean()"
   ]
  },
  {
   "cell_type": "code",
   "execution_count": 78,
   "metadata": {
    "scrolled": true
   },
   "outputs": [
    {
     "name": "stdout",
     "output_type": "stream",
     "text": [
      "(267, 157)\n"
     ]
    },
    {
     "data": {
      "text/plain": [
       "0.3195803893180063"
      ]
     },
     "execution_count": 78,
     "metadata": {},
     "output_type": "execute_result"
    }
   ],
   "source": [
    "from sklearn.linear_model import LogisticRegression\n",
    "\n",
    "X_ = PCA(1 - 1e-3).fit(X_).transform(X_)\n",
    "print(X_.shape)\n",
    "model = LogisticRegression(penalty = \"l1\", solver = \"liblinear\", class_weight = \"balanced\", multi_class = \"ovr\")\n",
    "cross_val_score(model, X_, y, cv = 3, scoring = \"f1_macro\").mean()"
   ]
  },
  {
   "cell_type": "code",
   "execution_count": 79,
   "metadata": {},
   "outputs": [
    {
     "data": {
      "text/plain": [
       "0.275569203514438"
      ]
     },
     "execution_count": 79,
     "metadata": {},
     "output_type": "execute_result"
    }
   ],
   "source": [
    "from sklearn.ensemble import GradientBoostingClassifier\n",
    "\n",
    "model = GradientBoostingClassifier(n_estimators = 10, max_depth = 5)\n",
    "\n",
    "cross_val_score(model, X_, y, cv = 3, scoring = \"f1_macro\").mean()"
   ]
  },
  {
   "cell_type": "markdown",
   "metadata": {},
   "source": [
    "### 2. Binarized data"
   ]
  },
  {
   "cell_type": "code",
   "execution_count": 81,
   "metadata": {
    "scrolled": true
   },
   "outputs": [
    {
     "name": "stdout",
     "output_type": "stream",
     "text": [
      "(267, 244)\n"
     ]
    },
    {
     "data": {
      "text/plain": [
       "0.36633540613435606"
      ]
     },
     "execution_count": 81,
     "metadata": {},
     "output_type": "execute_result"
    }
   ],
   "source": [
    "from sklearn.linear_model import LogisticRegression\n",
    "from sklearn.model_selection import cross_val_score\n",
    "from sklearn.utils import shuffle\n",
    "\n",
    "X_, y = shuffle(X_bin, y2)\n",
    "print(X_.shape)\n",
    "model = LogisticRegression(penalty = \"l1\", solver = \"liblinear\", class_weight = \"balanced\", multi_class = \"ovr\")\n",
    "cross_val_score(model, X_, y, cv = 3, scoring = \"f1_macro\").mean()"
   ]
  },
  {
   "cell_type": "code",
   "execution_count": 82,
   "metadata": {
    "scrolled": true
   },
   "outputs": [
    {
     "name": "stdout",
     "output_type": "stream",
     "text": [
      "(267, 157)\n"
     ]
    },
    {
     "data": {
      "text/plain": [
       "0.3736874634724097"
      ]
     },
     "execution_count": 82,
     "metadata": {},
     "output_type": "execute_result"
    }
   ],
   "source": [
    "from sklearn.linear_model import LogisticRegression\n",
    "\n",
    "X_ = PCA(1 - 1e-3).fit(X_).transform(X_)\n",
    "print(X_.shape)\n",
    "model = LogisticRegression(penalty = \"l1\", solver = \"liblinear\", class_weight = \"balanced\", multi_class = \"ovr\")\n",
    "cross_val_score(model, X_, y, cv = 3, scoring = \"f1_macro\").mean()"
   ]
  },
  {
   "cell_type": "code",
   "execution_count": 83,
   "metadata": {},
   "outputs": [
    {
     "data": {
      "text/plain": [
       "0.3700205855600216"
      ]
     },
     "execution_count": 83,
     "metadata": {},
     "output_type": "execute_result"
    }
   ],
   "source": [
    "from sklearn.ensemble import GradientBoostingClassifier\n",
    "\n",
    "model = GradientBoostingClassifier(n_estimators = 1000, max_depth = 10)\n",
    "\n",
    "cross_val_score(model, X_, y, cv = 3, scoring = \"f1_macro\").mean()"
   ]
  },
  {
   "cell_type": "code",
   "execution_count": null,
   "metadata": {},
   "outputs": [],
   "source": []
  }
 ],
 "metadata": {
  "kernelspec": {
   "display_name": "Python 3",
   "language": "python",
   "name": "python3"
  },
  "language_info": {
   "codemirror_mode": {
    "name": "ipython",
    "version": 3
   },
   "file_extension": ".py",
   "mimetype": "text/x-python",
   "name": "python",
   "nbconvert_exporter": "python",
   "pygments_lexer": "ipython3",
   "version": "3.7.3"
  }
 },
 "nbformat": 4,
 "nbformat_minor": 2
}
