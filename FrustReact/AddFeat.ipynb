{
 "cells": [
  {
   "cell_type": "markdown",
   "metadata": {},
   "source": [
    "# Not Scaled Data"
   ]
  },
  {
   "cell_type": "code",
   "execution_count": 108,
   "metadata": {},
   "outputs": [],
   "source": [
    "import pandas as pd\n",
    "xls = pd.ExcelFile(\"Фрустрация.xlsx\")\n",
    "data = pd.read_excel(xls, xls.sheet_names)    "
   ]
  },
  {
   "cell_type": "code",
   "execution_count": 109,
   "metadata": {},
   "outputs": [],
   "source": [
    "keys = [' E', ' E1', ' e_', ' M', ' M1', ' m_', ' I', ' I1', ' i_']\n",
    "\n",
    "keys1 = [[' E', ' E1', ' e_'],\n",
    "         [' M', ' M1', ' m_'],\n",
    "         [' I', ' I1', ' i_']]\n",
    "\n",
    "keys2 = [[' E', ' M', ' I'],\n",
    "        [' E1', ' M1', ' I1'],\n",
    "        [' e_', ' m_', ' i_']]\n",
    "def get_y(keys, data, init_keys = keys):\n",
    "    y = []\n",
    "    for ind, i in enumerate(init_keys):\n",
    "        for ind1, j in enumerate(keys):\n",
    "            if i in j:\n",
    "                y.append(ind1 * np.ones(len(data[i])))\n",
    "    return np.hstack(y)"
   ]
  },
  {
   "cell_type": "code",
   "execution_count": 110,
   "metadata": {},
   "outputs": [
    {
     "data": {
      "text/plain": [
       "Index(['Unnamed: 0', 'Число восклицательных знаков',\n",
       "       'Число вопросительных знаков', 'Число слов', 'Число символов',\n",
       "       'Число уникальных слов', 'Число клауз', 'Число предложений',\n",
       "       'Число знаков препинания',\n",
       "       'Средняя длина предложения (в количестве слов)',\n",
       "       ...\n",
       "       'Синтакс. связь: nummod', 'Синтакс. связь: nummod:gov',\n",
       "       'Синтакс. связь: obj', 'Синтакс. связь: obl', 'Синтакс. связь: orphan',\n",
       "       'Синтакс. связь: parataxis', 'Синтакс. связь: punct',\n",
       "       'Синтакс. связь: root', 'Синтакс. связь: xcomp',\n",
       "       'Синтакс. связь: compound'],\n",
       "      dtype='object', length=243)"
      ]
     },
     "execution_count": 110,
     "metadata": {},
     "output_type": "execute_result"
    }
   ],
   "source": [
    "data[keys[0]].columns"
   ]
  },
  {
   "cell_type": "code",
   "execution_count": 113,
   "metadata": {},
   "outputs": [],
   "source": [
    "def extract(list_of_texts):\n",
    "    res = []\n",
    "    for s in list_of_texts:\n",
    "        k = 0\n",
    "        for c in s:\n",
    "            if c.islower():\n",
    "                k += 1\n",
    "        res.append(k/len(s))\n",
    "    \n",
    "    return pd.DataFrame({\"Доля\":res})"
   ]
  },
  {
   "cell_type": "code",
   "execution_count": 114,
   "metadata": {},
   "outputs": [
    {
     "name": "stdout",
     "output_type": "stream",
     "text": [
      "dict_keys(['P3: E', 'P3: M', 'P3: m_', 'P3: e_', \"P3: I'\", \"P3: E'\", 'P3: i_', \"P3: M'\", 'P3: инф', 'P3: I', 'P3: n (\"надо\")'])\n"
     ]
    }
   ],
   "source": [
    "import json\n",
    "with open(\"p3_texts.json\", \"r\") as f:\n",
    "    texts = f.read()\n",
    "    texts = json.loads(texts)\n",
    "    f.close()\n",
    "print(texts.keys())\n",
    "for key in keys:\n",
    "    if key[-1] == '1':\n",
    "        key1 = key[:-1] + \"'\"\n",
    "    else:\n",
    "        key1 = key\n",
    "    data[key] = data[key].join( extract(texts['P3:' + key1]), rsuffix = \"___\")"
   ]
  },
  {
   "cell_type": "code",
   "execution_count": 115,
   "metadata": {},
   "outputs": [],
   "source": [
    "import numpy as np\n",
    "from sklearn.preprocessing import scale\n",
    "X = np.vstack([data[i].values for i in keys])\n",
    "X = X[:, 1:]\n",
    "y1 = get_y(keys1, data)\n",
    "y2 = get_y(keys2, data)"
   ]
  },
  {
   "cell_type": "code",
   "execution_count": 116,
   "metadata": {},
   "outputs": [
    {
     "name": "stdout",
     "output_type": "stream",
     "text": [
      "Число слов 36.49063670411985\n"
     ]
    }
   ],
   "source": [
    "print(\"Число слов\", X[:, 2].mean())"
   ]
  },
  {
   "cell_type": "code",
   "execution_count": 117,
   "metadata": {},
   "outputs": [
    {
     "name": "stdout",
     "output_type": "stream",
     "text": [
      "Число предложений 3.4569288389513106\n"
     ]
    }
   ],
   "source": [
    "print(\"Число предложений\", X[:, 6].mean())"
   ]
  },
  {
   "cell_type": "code",
   "execution_count": 118,
   "metadata": {},
   "outputs": [
    {
     "name": "stdout",
     "output_type": "stream",
     "text": [
      "Число символов 188.49812734082397\n"
     ]
    }
   ],
   "source": [
    "print(\"Число символов\", X[:, 3].mean())"
   ]
  },
  {
   "cell_type": "code",
   "execution_count": 119,
   "metadata": {},
   "outputs": [],
   "source": [
    "X = scale(X)\n",
    "X_bin = np.where(X <= 0, 0, 1)"
   ]
  },
  {
   "cell_type": "markdown",
   "metadata": {},
   "source": [
    "## The First Union"
   ]
  },
  {
   "cell_type": "code",
   "execution_count": 121,
   "metadata": {},
   "outputs": [
    {
     "data": {
      "text/plain": [
       "([0.7777777777777777, 0.19753086419753096, 0.024691358024691357],\n",
       " 0.33525947944453804)"
      ]
     },
     "execution_count": 121,
     "metadata": {},
     "output_type": "execute_result"
    }
   ],
   "source": [
    "from sklearn.metrics import f1_score\n",
    "p1 = 0.1\n",
    "p2 = 0.2\n",
    "M = None\n",
    "N = 100\n",
    "for p1 in np.linspace(0, 1, 10):\n",
    "    for p2 in np.linspace(0, 1 - p1, 10):\n",
    "        s = 0\n",
    "        for k in range(N):\n",
    "            y_pred = np.random.choice([0, 1, 2], len(y2), p=[p1, p2, 1 - p1 - p2])\n",
    "            y1_ = shuffle(y1)\n",
    "            s += f1_score(y1_, y_pred, average = 'macro')\n",
    "        s = s/N\n",
    "        if M is None or s > M[1]:\n",
    "            M = ([p1, p2, 1- p1 - p2], s)\n",
    "M"
   ]
  },
  {
   "cell_type": "markdown",
   "metadata": {},
   "source": [
    "### 1. Not binarized data"
   ]
  },
  {
   "cell_type": "code",
   "execution_count": 73,
   "metadata": {
    "scrolled": true
   },
   "outputs": [
    {
     "name": "stderr",
     "output_type": "stream",
     "text": [
      "/home/elias/anaconda3/lib/python3.7/site-packages/sklearn/metrics/classification.py:1143: UndefinedMetricWarning: F-score is ill-defined and being set to 0.0 in labels with no predicted samples.\n",
      "  'precision', 'predicted', average, warn_for)\n",
      "/home/elias/anaconda3/lib/python3.7/site-packages/sklearn/metrics/classification.py:1143: UndefinedMetricWarning: F-score is ill-defined and being set to 0.0 in labels with no predicted samples.\n",
      "  'precision', 'predicted', average, warn_for)\n",
      "/home/elias/anaconda3/lib/python3.7/site-packages/sklearn/metrics/classification.py:1143: UndefinedMetricWarning: F-score is ill-defined and being set to 0.0 in labels with no predicted samples.\n",
      "  'precision', 'predicted', average, warn_for)\n"
     ]
    },
    {
     "data": {
      "text/plain": [
       "0.38424818817232087"
      ]
     },
     "execution_count": 73,
     "metadata": {},
     "output_type": "execute_result"
    }
   ],
   "source": [
    "from sklearn.linear_model import LogisticRegression\n",
    "from sklearn.model_selection import cross_val_score\n",
    "from sklearn.utils import shuffle\n",
    "\n",
    "s = 0\n",
    "N = 100\n",
    "for i in range(N):\n",
    "    X_, y = shuffle(X, y1)\n",
    "    model = LogisticRegression(penalty = \"l1\", solver = \"liblinear\", class_weight = \"balanced\", multi_class = \"ovr\")\n",
    "    s+= cross_val_score(model, X_, y, cv = 3, scoring = \"f1_macro\").mean()\n",
    "s/N"
   ]
  },
  {
   "cell_type": "code",
   "execution_count": 68,
   "metadata": {
    "scrolled": false
   },
   "outputs": [
    {
     "name": "stdout",
     "output_type": "stream",
     "text": [
      "(267, 157)\n"
     ]
    },
    {
     "name": "stderr",
     "output_type": "stream",
     "text": [
      "/home/elias/anaconda3/lib/python3.7/site-packages/sklearn/metrics/classification.py:1143: UndefinedMetricWarning: F-score is ill-defined and being set to 0.0 in labels with no predicted samples.\n",
      "  'precision', 'predicted', average, warn_for)\n",
      "/home/elias/anaconda3/lib/python3.7/site-packages/sklearn/metrics/classification.py:1143: UndefinedMetricWarning: F-score is ill-defined and being set to 0.0 in labels with no predicted samples.\n",
      "  'precision', 'predicted', average, warn_for)\n",
      "/home/elias/anaconda3/lib/python3.7/site-packages/sklearn/metrics/classification.py:1143: UndefinedMetricWarning: F-score is ill-defined and being set to 0.0 in labels with no predicted samples.\n",
      "  'precision', 'predicted', average, warn_for)\n",
      "/home/elias/anaconda3/lib/python3.7/site-packages/sklearn/metrics/classification.py:1143: UndefinedMetricWarning: F-score is ill-defined and being set to 0.0 in labels with no predicted samples.\n",
      "  'precision', 'predicted', average, warn_for)\n",
      "/home/elias/anaconda3/lib/python3.7/site-packages/sklearn/metrics/classification.py:1143: UndefinedMetricWarning: F-score is ill-defined and being set to 0.0 in labels with no predicted samples.\n",
      "  'precision', 'predicted', average, warn_for)\n",
      "/home/elias/anaconda3/lib/python3.7/site-packages/sklearn/metrics/classification.py:1143: UndefinedMetricWarning: F-score is ill-defined and being set to 0.0 in labels with no predicted samples.\n",
      "  'precision', 'predicted', average, warn_for)\n"
     ]
    },
    {
     "data": {
      "text/plain": [
       "0.38672091708434764"
      ]
     },
     "execution_count": 68,
     "metadata": {},
     "output_type": "execute_result"
    }
   ],
   "source": [
    "from sklearn.linear_model import LogisticRegression\n",
    "from sklearn.decomposition import PCA\n",
    "\n",
    "X_ = PCA(1 - 1e-3).fit(X_).transform(X_)\n",
    "print(X_.shape)\n",
    "s = 0\n",
    "N = 100\n",
    "for i in range(N):\n",
    "    X_, y = shuffle(X, y1)\n",
    "    model = LogisticRegression(penalty = \"l1\", solver = \"liblinear\", class_weight = \"balanced\", multi_class = \"ovr\")\n",
    "    s += cross_val_score(model, X_, y, cv = 3, scoring = \"f1_macro\").mean()\n",
    "s/N"
   ]
  },
  {
   "cell_type": "markdown",
   "metadata": {},
   "source": [
    "### 2. Binarized data"
   ]
  },
  {
   "cell_type": "code",
   "execution_count": 74,
   "metadata": {
    "scrolled": false
   },
   "outputs": [
    {
     "name": "stdout",
     "output_type": "stream",
     "text": [
      "(267, 243)\n"
     ]
    },
    {
     "name": "stderr",
     "output_type": "stream",
     "text": [
      "/home/elias/anaconda3/lib/python3.7/site-packages/sklearn/metrics/classification.py:1143: UndefinedMetricWarning: F-score is ill-defined and being set to 0.0 in labels with no predicted samples.\n",
      "  'precision', 'predicted', average, warn_for)\n",
      "/home/elias/anaconda3/lib/python3.7/site-packages/sklearn/metrics/classification.py:1143: UndefinedMetricWarning: F-score is ill-defined and being set to 0.0 in labels with no predicted samples.\n",
      "  'precision', 'predicted', average, warn_for)\n",
      "/home/elias/anaconda3/lib/python3.7/site-packages/sklearn/metrics/classification.py:1143: UndefinedMetricWarning: F-score is ill-defined and being set to 0.0 in labels with no predicted samples.\n",
      "  'precision', 'predicted', average, warn_for)\n",
      "/home/elias/anaconda3/lib/python3.7/site-packages/sklearn/metrics/classification.py:1143: UndefinedMetricWarning: F-score is ill-defined and being set to 0.0 in labels with no predicted samples.\n",
      "  'precision', 'predicted', average, warn_for)\n",
      "/home/elias/anaconda3/lib/python3.7/site-packages/sklearn/metrics/classification.py:1143: UndefinedMetricWarning: F-score is ill-defined and being set to 0.0 in labels with no predicted samples.\n",
      "  'precision', 'predicted', average, warn_for)\n",
      "/home/elias/anaconda3/lib/python3.7/site-packages/sklearn/metrics/classification.py:1143: UndefinedMetricWarning: F-score is ill-defined and being set to 0.0 in labels with no predicted samples.\n",
      "  'precision', 'predicted', average, warn_for)\n",
      "/home/elias/anaconda3/lib/python3.7/site-packages/sklearn/metrics/classification.py:1143: UndefinedMetricWarning: F-score is ill-defined and being set to 0.0 in labels with no predicted samples.\n",
      "  'precision', 'predicted', average, warn_for)\n",
      "/home/elias/anaconda3/lib/python3.7/site-packages/sklearn/metrics/classification.py:1143: UndefinedMetricWarning: F-score is ill-defined and being set to 0.0 in labels with no predicted samples.\n",
      "  'precision', 'predicted', average, warn_for)\n",
      "/home/elias/anaconda3/lib/python3.7/site-packages/sklearn/metrics/classification.py:1143: UndefinedMetricWarning: F-score is ill-defined and being set to 0.0 in labels with no predicted samples.\n",
      "  'precision', 'predicted', average, warn_for)\n",
      "/home/elias/anaconda3/lib/python3.7/site-packages/sklearn/metrics/classification.py:1143: UndefinedMetricWarning: F-score is ill-defined and being set to 0.0 in labels with no predicted samples.\n",
      "  'precision', 'predicted', average, warn_for)\n",
      "/home/elias/anaconda3/lib/python3.7/site-packages/sklearn/metrics/classification.py:1143: UndefinedMetricWarning: F-score is ill-defined and being set to 0.0 in labels with no predicted samples.\n",
      "  'precision', 'predicted', average, warn_for)\n",
      "/home/elias/anaconda3/lib/python3.7/site-packages/sklearn/metrics/classification.py:1143: UndefinedMetricWarning: F-score is ill-defined and being set to 0.0 in labels with no predicted samples.\n",
      "  'precision', 'predicted', average, warn_for)\n",
      "/home/elias/anaconda3/lib/python3.7/site-packages/sklearn/metrics/classification.py:1143: UndefinedMetricWarning: F-score is ill-defined and being set to 0.0 in labels with no predicted samples.\n",
      "  'precision', 'predicted', average, warn_for)\n",
      "/home/elias/anaconda3/lib/python3.7/site-packages/sklearn/metrics/classification.py:1143: UndefinedMetricWarning: F-score is ill-defined and being set to 0.0 in labels with no predicted samples.\n",
      "  'precision', 'predicted', average, warn_for)\n",
      "/home/elias/anaconda3/lib/python3.7/site-packages/sklearn/metrics/classification.py:1143: UndefinedMetricWarning: F-score is ill-defined and being set to 0.0 in labels with no predicted samples.\n",
      "  'precision', 'predicted', average, warn_for)\n"
     ]
    },
    {
     "data": {
      "text/plain": [
       "0.3609918098816389"
      ]
     },
     "execution_count": 74,
     "metadata": {},
     "output_type": "execute_result"
    }
   ],
   "source": [
    "from sklearn.linear_model import LogisticRegression\n",
    "from sklearn.model_selection import cross_val_score\n",
    "from sklearn.utils import shuffle\n",
    "\n",
    "X_, y = shuffle(X_bin, y1)\n",
    "print(X_.shape)\n",
    "s = 0\n",
    "N = 100\n",
    "for i in range(N):\n",
    "    X_, y = shuffle(X_bin, y1)\n",
    "    model = LogisticRegression(penalty = \"l1\", solver = \"liblinear\", class_weight = \"balanced\", multi_class = \"ovr\")\n",
    "    s+=cross_val_score(model, X_, y, cv = 3, scoring = \"f1_macro\").mean()\n",
    "s/N"
   ]
  },
  {
   "cell_type": "code",
   "execution_count": 75,
   "metadata": {
    "scrolled": false
   },
   "outputs": [
    {
     "name": "stdout",
     "output_type": "stream",
     "text": [
      "(267, 157)\n"
     ]
    },
    {
     "name": "stderr",
     "output_type": "stream",
     "text": [
      "/home/elias/anaconda3/lib/python3.7/site-packages/sklearn/metrics/classification.py:1143: UndefinedMetricWarning: F-score is ill-defined and being set to 0.0 in labels with no predicted samples.\n",
      "  'precision', 'predicted', average, warn_for)\n",
      "/home/elias/anaconda3/lib/python3.7/site-packages/sklearn/metrics/classification.py:1143: UndefinedMetricWarning: F-score is ill-defined and being set to 0.0 in labels with no predicted samples.\n",
      "  'precision', 'predicted', average, warn_for)\n",
      "/home/elias/anaconda3/lib/python3.7/site-packages/sklearn/metrics/classification.py:1143: UndefinedMetricWarning: F-score is ill-defined and being set to 0.0 in labels with no predicted samples.\n",
      "  'precision', 'predicted', average, warn_for)\n",
      "/home/elias/anaconda3/lib/python3.7/site-packages/sklearn/metrics/classification.py:1143: UndefinedMetricWarning: F-score is ill-defined and being set to 0.0 in labels with no predicted samples.\n",
      "  'precision', 'predicted', average, warn_for)\n",
      "/home/elias/anaconda3/lib/python3.7/site-packages/sklearn/metrics/classification.py:1143: UndefinedMetricWarning: F-score is ill-defined and being set to 0.0 in labels with no predicted samples.\n",
      "  'precision', 'predicted', average, warn_for)\n",
      "/home/elias/anaconda3/lib/python3.7/site-packages/sklearn/metrics/classification.py:1143: UndefinedMetricWarning: F-score is ill-defined and being set to 0.0 in labels with no predicted samples.\n",
      "  'precision', 'predicted', average, warn_for)\n",
      "/home/elias/anaconda3/lib/python3.7/site-packages/sklearn/metrics/classification.py:1143: UndefinedMetricWarning: F-score is ill-defined and being set to 0.0 in labels with no predicted samples.\n",
      "  'precision', 'predicted', average, warn_for)\n",
      "/home/elias/anaconda3/lib/python3.7/site-packages/sklearn/metrics/classification.py:1143: UndefinedMetricWarning: F-score is ill-defined and being set to 0.0 in labels with no predicted samples.\n",
      "  'precision', 'predicted', average, warn_for)\n",
      "/home/elias/anaconda3/lib/python3.7/site-packages/sklearn/metrics/classification.py:1143: UndefinedMetricWarning: F-score is ill-defined and being set to 0.0 in labels with no predicted samples.\n",
      "  'precision', 'predicted', average, warn_for)\n",
      "/home/elias/anaconda3/lib/python3.7/site-packages/sklearn/metrics/classification.py:1143: UndefinedMetricWarning: F-score is ill-defined and being set to 0.0 in labels with no predicted samples.\n",
      "  'precision', 'predicted', average, warn_for)\n",
      "/home/elias/anaconda3/lib/python3.7/site-packages/sklearn/metrics/classification.py:1143: UndefinedMetricWarning: F-score is ill-defined and being set to 0.0 in labels with no predicted samples.\n",
      "  'precision', 'predicted', average, warn_for)\n",
      "/home/elias/anaconda3/lib/python3.7/site-packages/sklearn/metrics/classification.py:1143: UndefinedMetricWarning: F-score is ill-defined and being set to 0.0 in labels with no predicted samples.\n",
      "  'precision', 'predicted', average, warn_for)\n",
      "/home/elias/anaconda3/lib/python3.7/site-packages/sklearn/metrics/classification.py:1143: UndefinedMetricWarning: F-score is ill-defined and being set to 0.0 in labels with no predicted samples.\n",
      "  'precision', 'predicted', average, warn_for)\n",
      "/home/elias/anaconda3/lib/python3.7/site-packages/sklearn/metrics/classification.py:1143: UndefinedMetricWarning: F-score is ill-defined and being set to 0.0 in labels with no predicted samples.\n",
      "  'precision', 'predicted', average, warn_for)\n"
     ]
    },
    {
     "data": {
      "text/plain": [
       "0.3592004363020605"
      ]
     },
     "execution_count": 75,
     "metadata": {},
     "output_type": "execute_result"
    }
   ],
   "source": [
    "from sklearn.linear_model import LogisticRegression\n",
    "\n",
    "X_ = PCA(1 - 1e-3).fit(X_).transform(X_)\n",
    "print(X_.shape)\n",
    "s = 0\n",
    "N = 100\n",
    "for i in range(N):\n",
    "    X_, y = shuffle(X_bin, y1)\n",
    "    model = LogisticRegression(penalty = \"l1\", solver = \"liblinear\", class_weight = \"balanced\", multi_class = \"ovr\")\n",
    "    s += cross_val_score(model, X_, y, cv = 3, scoring = \"f1_macro\").mean()\n",
    "s/N"
   ]
  },
  {
   "cell_type": "markdown",
   "metadata": {},
   "source": [
    "## The Second Union"
   ]
  },
  {
   "cell_type": "code",
   "execution_count": 122,
   "metadata": {},
   "outputs": [
    {
     "data": {
      "text/plain": [
       "([0.6666666666666666, 0.14814814814814817, 0.1851851851851852],\n",
       " 0.33284173012414386)"
      ]
     },
     "execution_count": 122,
     "metadata": {},
     "output_type": "execute_result"
    }
   ],
   "source": [
    "from sklearn.metrics import f1_score\n",
    "p1 = 0.1\n",
    "p2 = 0.2\n",
    "M = None\n",
    "N = 100\n",
    "for p1 in np.linspace(0, 1, 10):\n",
    "    for p2 in np.linspace(0, 1 - p1, 10):\n",
    "        s = 0\n",
    "        for k in range(N):\n",
    "            y_pred = np.random.choice([0, 1, 2], len(y2), p=[p1, p2, 1 - p1 - p2])\n",
    "            y2_= shuffle(y2)\n",
    "            s += f1_score(y2_, y_pred, average = 'macro')\n",
    "        s = s/N\n",
    "        if M is None or s > M[1]:\n",
    "            M = ([p1, p2, 1- p1 - p2], s)\n",
    "M"
   ]
  },
  {
   "cell_type": "markdown",
   "metadata": {},
   "source": [
    "### 1. Not binarized data"
   ]
  },
  {
   "cell_type": "code",
   "execution_count": 78,
   "metadata": {
    "scrolled": false
   },
   "outputs": [
    {
     "name": "stdout",
     "output_type": "stream",
     "text": [
      "(267, 243)\n"
     ]
    },
    {
     "data": {
      "text/plain": [
       "0.35973429903519116"
      ]
     },
     "execution_count": 78,
     "metadata": {},
     "output_type": "execute_result"
    }
   ],
   "source": [
    "from sklearn.linear_model import LogisticRegression\n",
    "from sklearn.model_selection import cross_val_score\n",
    "from sklearn.utils import shuffle\n",
    "\n",
    "X_, y = shuffle(X, y2)\n",
    "print(X_.shape)\n",
    "s = 0\n",
    "N = 100\n",
    "for i in range(N):\n",
    "    X_, y = shuffle(X, y2)\n",
    "    model = LogisticRegression(penalty = \"l1\", solver = \"liblinear\", class_weight = \"balanced\", multi_class = \"ovr\")\n",
    "    s += cross_val_score(model, X_, y, cv = 3, scoring = \"f1_macro\").mean()\n",
    "s/N"
   ]
  },
  {
   "cell_type": "code",
   "execution_count": 79,
   "metadata": {
    "scrolled": true
   },
   "outputs": [
    {
     "name": "stdout",
     "output_type": "stream",
     "text": [
      "(267, 157)\n"
     ]
    },
    {
     "data": {
      "text/plain": [
       "0.3597259923214435"
      ]
     },
     "execution_count": 79,
     "metadata": {},
     "output_type": "execute_result"
    }
   ],
   "source": [
    "from sklearn.linear_model import LogisticRegression\n",
    "\n",
    "X_ = PCA(1 - 1e-3).fit(X_).transform(X_)\n",
    "print(X_.shape)\n",
    "s = 0\n",
    "N = 100\n",
    "for i in range(N):\n",
    "    X_, y = shuffle(X, y2)\n",
    "    model = LogisticRegression(penalty = \"l1\", solver = \"liblinear\", class_weight = \"balanced\", multi_class = \"ovr\")\n",
    "    s += cross_val_score(model, X_, y, cv = 3, scoring = \"f1_macro\").mean()\n",
    "s/N"
   ]
  },
  {
   "cell_type": "markdown",
   "metadata": {},
   "source": [
    "### 2. Binarized data"
   ]
  },
  {
   "cell_type": "code",
   "execution_count": 81,
   "metadata": {
    "scrolled": true
   },
   "outputs": [
    {
     "data": {
      "text/plain": [
       "0.35302800634456477"
      ]
     },
     "execution_count": 81,
     "metadata": {},
     "output_type": "execute_result"
    }
   ],
   "source": [
    "from sklearn.linear_model import LogisticRegression\n",
    "from sklearn.model_selection import cross_val_score\n",
    "from sklearn.utils import shuffle\n",
    "\n",
    "s = 0\n",
    "N = 100\n",
    "for i in range(N):\n",
    "    X_, y = shuffle(X_bin, y2)\n",
    "    model = LogisticRegression(penalty = \"l1\", solver = \"liblinear\", class_weight = \"balanced\", multi_class = \"ovr\")\n",
    "    s += cross_val_score(model, X_, y, cv = 3, scoring = \"f1_macro\").mean()\n",
    "s/N"
   ]
  },
  {
   "cell_type": "code",
   "execution_count": 89,
   "metadata": {
    "scrolled": true
   },
   "outputs": [
    {
     "name": "stdout",
     "output_type": "stream",
     "text": [
      "(267, 157)\n"
     ]
    },
    {
     "data": {
      "text/plain": [
       "0.3517928010536153"
      ]
     },
     "execution_count": 89,
     "metadata": {},
     "output_type": "execute_result"
    }
   ],
   "source": [
    "from sklearn.linear_model import LogisticRegression\n",
    "\n",
    "X_ = PCA(1 - 1e-3).fit(X_).transform(X_)\n",
    "print(X_.shape)\n",
    "s = 0\n",
    "N = 100\n",
    "for i in range(N):\n",
    "    X_, y = shuffle(X_bin, y2)\n",
    "    model = LogisticRegression(penalty = \"l1\", solver = \"liblinear\", class_weight = \"balanced\", multi_class = \"ovr\")\n",
    "    s += cross_val_score(model, X_, y, cv = 3, scoring = \"f1_macro\").mean()\n",
    "s/N"
   ]
  },
  {
   "cell_type": "code",
   "execution_count": null,
   "metadata": {},
   "outputs": [],
   "source": []
  },
  {
   "cell_type": "code",
   "execution_count": null,
   "metadata": {},
   "outputs": [],
   "source": []
  }
 ],
 "metadata": {
  "kernelspec": {
   "display_name": "Python 3",
   "language": "python",
   "name": "python3"
  },
  "language_info": {
   "codemirror_mode": {
    "name": "ipython",
    "version": 3
   },
   "file_extension": ".py",
   "mimetype": "text/x-python",
   "name": "python",
   "nbconvert_exporter": "python",
   "pygments_lexer": "ipython3",
   "version": "3.7.3"
  }
 },
 "nbformat": 4,
 "nbformat_minor": 2
}
