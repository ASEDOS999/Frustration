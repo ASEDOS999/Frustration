{
 "cells": [
  {
   "cell_type": "markdown",
   "metadata": {},
   "source": [
    "# Not Scaled Data"
   ]
  },
  {
   "cell_type": "code",
   "execution_count": 297,
   "metadata": {},
   "outputs": [],
   "source": [
    "import pandas as pd\n",
    "xls = pd.ExcelFile(\"Фрустрация.xlsx\")\n",
    "data = pd.read_excel(xls, xls.sheet_names)    "
   ]
  },
  {
   "cell_type": "code",
   "execution_count": 298,
   "metadata": {},
   "outputs": [],
   "source": [
    "keys = [' E', ' E1', ' e_', ' M', ' M1', ' m_', ' I', ' I1', ' i_']\n",
    "\n",
    "keys1 = [[' E', ' E1', ' e_'],\n",
    "         [' M', ' M1', ' m_'],\n",
    "         [' I', ' I1', ' i_']]\n",
    "\n",
    "keys2 = [[' E', ' M', ' I'],\n",
    "        [' E1', ' M1', ' I1'],\n",
    "        [' e_', ' m_', ' i_']]\n",
    "def get_y(keys, data, init_keys = keys):\n",
    "    y = []\n",
    "    for ind, i in enumerate(init_keys):\n",
    "        for ind1, j in enumerate(keys):\n",
    "            if i in j:\n",
    "                y.append(ind1 * np.ones(len(data[i])))\n",
    "    return np.hstack(y)"
   ]
  },
  {
   "cell_type": "code",
   "execution_count": 299,
   "metadata": {},
   "outputs": [],
   "source": [
    "col = data[keys[0]].columns"
   ]
  },
  {
   "cell_type": "code",
   "execution_count": 300,
   "metadata": {},
   "outputs": [],
   "source": [
    "def extract(list_of_texts):\n",
    "    res = []\n",
    "    for s in list_of_texts:\n",
    "        k = 0\n",
    "        for c in s:\n",
    "            if c.islower():\n",
    "                k += 1\n",
    "        res.append(k/len(s))\n",
    "    \n",
    "    return pd.DataFrame({\"Доля\":res})"
   ]
  },
  {
   "cell_type": "code",
   "execution_count": 301,
   "metadata": {},
   "outputs": [
    {
     "name": "stdout",
     "output_type": "stream",
     "text": [
      "dict_keys(['P3: E', 'P3: M', 'P3: m_', 'P3: e_', \"P3: I'\", \"P3: E'\", 'P3: i_', \"P3: M'\", 'P3: инф', 'P3: I', 'P3: n (\"надо\")'])\n"
     ]
    }
   ],
   "source": [
    "import json\n",
    "with open(\"p3_texts.json\", \"r\") as f:\n",
    "    texts = f.read()\n",
    "    texts = json.loads(texts)\n",
    "    f.close()\n",
    "print(texts.keys())\n",
    "for key in keys:\n",
    "    if key[-1] == '1':\n",
    "        key1 = key[:-1] + \"'\"\n",
    "    else:\n",
    "        key1 = key\n",
    "    data[key] = data[key].join( extract(texts['P3:' + key1]), rsuffix = \"___\")"
   ]
  },
  {
   "cell_type": "code",
   "execution_count": 302,
   "metadata": {},
   "outputs": [],
   "source": [
    "import numpy as np\n",
    "from sklearn.preprocessing import scale\n",
    "X = np.vstack([data[i].values for i in keys])\n",
    "X = X[:, 1:]\n",
    "y1 = get_y(keys1, data)\n",
    "y2 = get_y(keys2, data)"
   ]
  },
  {
   "cell_type": "code",
   "execution_count": 303,
   "metadata": {},
   "outputs": [
    {
     "name": "stdout",
     "output_type": "stream",
     "text": [
      "Число слов 36.49063670411985\n"
     ]
    }
   ],
   "source": [
    "print(\"Число слов\", X[:, 2].mean())"
   ]
  },
  {
   "cell_type": "code",
   "execution_count": 304,
   "metadata": {},
   "outputs": [
    {
     "name": "stdout",
     "output_type": "stream",
     "text": [
      "Число предложений 3.4569288389513106\n"
     ]
    }
   ],
   "source": [
    "print(\"Число предложений\", X[:, 6].mean())"
   ]
  },
  {
   "cell_type": "code",
   "execution_count": 305,
   "metadata": {
    "scrolled": true
   },
   "outputs": [
    {
     "name": "stdout",
     "output_type": "stream",
     "text": [
      "Число символов 188.49812734082397\n"
     ]
    }
   ],
   "source": [
    "print(\"Число символов\", X[:, 3].mean())"
   ]
  },
  {
   "cell_type": "code",
   "execution_count": 306,
   "metadata": {},
   "outputs": [
    {
     "data": {
      "text/plain": [
       "(267, 243)"
      ]
     },
     "execution_count": 306,
     "metadata": {},
     "output_type": "execute_result"
    }
   ],
   "source": [
    "# X = scale(X)\n",
    "# X_bin = np.where(X <= 0, 0, 1)\n",
    "X.shape"
   ]
  },
  {
   "cell_type": "markdown",
   "metadata": {},
   "source": [
    "## The First Union"
   ]
  },
  {
   "cell_type": "code",
   "execution_count": 93,
   "metadata": {},
   "outputs": [],
   "source": [
    "from sklearn.pipeline import Pipeline\n",
    "\n",
    "from sklearn.preprocessing import StandardScaler\n",
    "from sklearn.preprocessing import PolynomialFeatures\n",
    "\n",
    "from sklearn.feature_selection import SelectFromModel\n",
    "\n",
    "from sklearn.linear_model import LogisticRegression, Lasso\n",
    "\n",
    "model = Pipeline([\n",
    "    #('first_scaler', StandardScaler()),\n",
    "    #('first_select', SelectFromModel(LogisticRegression(C = 0.5, \n",
    "    #                                                    penalty=\"l1\", \n",
    "    #                                                    multi_class = 'ovr', \n",
    "    #                                                    solver = 'liblinear'))),\n",
    "    #('PolyPreproc', PolynomialFeatures(2)),\n",
    "    ('second_scaler', StandardScaler()),\n",
    "    ('second_select', SelectFromModel(LogisticRegression(C = 0.2, \n",
    "                                                        penalty=\"l1\", \n",
    "                                                        multi_class = 'ovr', \n",
    "                                                        class_weight = \"balanced\",\n",
    "                                                        solver = 'liblinear'))),\n",
    "    ('main_model', LogisticRegression(C = 0.05,\n",
    "                                      penalty = \"l2\",\n",
    "                                      solver = \"liblinear\",\n",
    "                                      class_weight = \"balanced\",\n",
    "                                      multi_class = \"ovr\",\n",
    "                                      max_iter = 100))\n",
    "])"
   ]
  },
  {
   "cell_type": "code",
   "execution_count": 94,
   "metadata": {
    "scrolled": true
   },
   "outputs": [
    {
     "name": "stderr",
     "output_type": "stream",
     "text": [
      "/home/elias/anaconda3/lib/python3.7/site-packages/sklearn/metrics/classification.py:1143: UndefinedMetricWarning: F-score is ill-defined and being set to 0.0 in labels with no predicted samples.\n",
      "  'precision', 'predicted', average, warn_for)\n",
      "/home/elias/anaconda3/lib/python3.7/site-packages/sklearn/metrics/classification.py:1143: UndefinedMetricWarning: F-score is ill-defined and being set to 0.0 in labels with no predicted samples.\n",
      "  'precision', 'predicted', average, warn_for)\n",
      "/home/elias/anaconda3/lib/python3.7/site-packages/sklearn/metrics/classification.py:1143: UndefinedMetricWarning: F-score is ill-defined and being set to 0.0 in labels with no predicted samples.\n",
      "  'precision', 'predicted', average, warn_for)\n"
     ]
    },
    {
     "data": {
      "text/plain": [
       "0.3891043177465283"
      ]
     },
     "execution_count": 94,
     "metadata": {},
     "output_type": "execute_result"
    }
   ],
   "source": [
    "from sklearn.model_selection import cross_val_score\n",
    "from sklearn.utils import shuffle\n",
    "\n",
    "s = 0\n",
    "N = 250\n",
    "for i in range(N):\n",
    "    X_, y = shuffle(X, y1)\n",
    "    s+= cross_val_score(model, X_, y, cv = 4, scoring = \"f1_macro\").mean()\n",
    "s/N"
   ]
  },
  {
   "cell_type": "markdown",
   "metadata": {},
   "source": [
    "# Deep Learning Part"
   ]
  },
  {
   "cell_type": "code",
   "execution_count": 307,
   "metadata": {},
   "outputs": [],
   "source": [
    "from sklearn.preprocessing import LabelBinarizer\n",
    "lb = LabelBinarizer()\n",
    "lb.fit(y1)\n",
    "y = lb.transform(y1)"
   ]
  },
  {
   "cell_type": "code",
   "execution_count": 308,
   "metadata": {},
   "outputs": [],
   "source": [
    "import torch\n",
    "from torch import nn\n",
    "from torch.functional import F\n",
    "from sklearn.model_selection import train_test_split\n",
    "from sklearn.metrics import f1_score"
   ]
  },
  {
   "cell_type": "code",
   "execution_count": 327,
   "metadata": {},
   "outputs": [],
   "source": [
    "class Model(nn.Module):\n",
    "    def __init__(self, n_feat):\n",
    "        super(Model, self).__init__()\n",
    "        self.model = []\n",
    "        self.model.append(nn.BatchNorm1d(n_feat))\n",
    "        self.model.append(nn.Linear(in_features=n_feat, out_features=100))\n",
    "        self.model.append(nn.Dropout())\n",
    "        self.model.append(nn.ReLU())\n",
    "        self.model.append(nn.BatchNorm1d(100))\n",
    "        #self.model.append(nn.Linear(in_features=100, out_features=1000))\n",
    "        #self.model.append(nn.Dropout())\n",
    "        #self.model.append(nn.ReLU())\n",
    "        #self.model.append(nn.BatchNorm1d(1000))\n",
    "        self.model.append(nn.Linear(in_features=100, out_features=3))\n",
    "        self.model.append(nn.Softmax(dim = 1))\n",
    "        [self.add_module(name = \"final_layer%d\"%(idx), module = layer) for idx, layer in enumerate(self.model)]\n",
    "        \n",
    "\n",
    "    def forward(self, whole_input):\n",
    "        out = whole_input\n",
    "        for layer in self.model:\n",
    "            out = layer(out)\n",
    "        \n",
    "        return out"
   ]
  },
  {
   "cell_type": "code",
   "execution_count": 329,
   "metadata": {},
   "outputs": [
    {
     "name": "stdout",
     "output_type": "stream",
     "text": [
      "0.7777777777777778\n",
      "0 11.333839178085327 0.7777777777777778\n"
     ]
    },
    {
     "name": "stderr",
     "output_type": "stream",
     "text": [
      "/home/elias/anaconda3/lib/python3.7/site-packages/sklearn/metrics/classification.py:1143: UndefinedMetricWarning: F-score is ill-defined and being set to 0.0 in labels with no predicted samples.\n",
      "  'precision', 'predicted', average, warn_for)\n"
     ]
    },
    {
     "name": "stdout",
     "output_type": "stream",
     "text": [
      "0.38856589147286824\n",
      "0.31097560975609756\n"
     ]
    },
    {
     "name": "stderr",
     "output_type": "stream",
     "text": [
      "/home/elias/anaconda3/lib/python3.7/site-packages/sklearn/metrics/classification.py:1143: UndefinedMetricWarning: F-score is ill-defined and being set to 0.0 in labels with no predicted samples.\n",
      "  'precision', 'predicted', average, warn_for)\n"
     ]
    },
    {
     "name": "stdout",
     "output_type": "stream",
     "text": [
      "0.3909090909090909\n",
      "3 14.170555591583252 0.4670570924789586\n"
     ]
    },
    {
     "name": "stderr",
     "output_type": "stream",
     "text": [
      "/home/elias/anaconda3/lib/python3.7/site-packages/sklearn/metrics/classification.py:1143: UndefinedMetricWarning: F-score is ill-defined and being set to 0.0 in labels with no predicted samples.\n",
      "  'precision', 'predicted', average, warn_for)\n"
     ]
    },
    {
     "name": "stdout",
     "output_type": "stream",
     "text": [
      "0.41904761904761906\n"
     ]
    },
    {
     "name": "stderr",
     "output_type": "stream",
     "text": [
      "/home/elias/anaconda3/lib/python3.7/site-packages/sklearn/metrics/classification.py:1143: UndefinedMetricWarning: F-score is ill-defined and being set to 0.0 in labels with no predicted samples.\n",
      "  'precision', 'predicted', average, warn_for)\n"
     ]
    },
    {
     "name": "stdout",
     "output_type": "stream",
     "text": [
      "0.3557422969187675\n",
      "0.7382333978078659\n",
      "6 16.221994706562587 0.4830359548128696\n",
      "0.3130434782608696\n"
     ]
    },
    {
     "name": "stderr",
     "output_type": "stream",
     "text": [
      "/home/elias/anaconda3/lib/python3.7/site-packages/sklearn/metrics/classification.py:1143: UndefinedMetricWarning: F-score is ill-defined and being set to 0.0 in labels with no predicted samples.\n",
      "  'precision', 'predicted', average, warn_for)\n"
     ]
    },
    {
     "name": "stdout",
     "output_type": "stream",
     "text": [
      "0.36343366778149383\n",
      "0.41702127659574467\n",
      "9 15.942110824584962 0.4474750106328195\n"
     ]
    },
    {
     "data": {
      "text/plain": [
       "0.4474750106328195"
      ]
     },
     "execution_count": 329,
     "metadata": {},
     "output_type": "execute_result"
    }
   ],
   "source": [
    "import time\n",
    "history = []\n",
    "s = 0\n",
    "N = 10\n",
    "t = time.time()\n",
    "for k in range(N):\n",
    "    X_train, X_test, y_train, y_test = train_test_split(X, y1, test_size = 30)\n",
    "    lb.fit(y1)\n",
    "    y_train = lb.transform(y_train)\n",
    "    y_test = lb.transform(y_test)\n",
    "    model = Model(X_train.shape[1])\n",
    "    class_weight = [len([j for j in y_train if j[i] == 1]) for i in range(3)]\n",
    "    class_weight = [1/max(j,1) for j in class_weight]\n",
    "    opt = torch.optim.Adam(model.parameters(), lr=1e-4)\n",
    "    history = []\n",
    "    for i in range(2400):\n",
    "        ix = np.random.randint(0, len(X_train), 10) \n",
    "        x_batch = torch.tensor(X_train[ix], dtype=torch.float32)\n",
    "        y_batch = torch.tensor(y_train[ix], dtype=torch.float32)\n",
    "\n",
    "        y_predicted = model(x_batch)\n",
    "\n",
    "        loss = F.binary_cross_entropy(y_predicted, y_batch, weight = torch.tensor(class_weight, dtype=torch.float32))\n",
    "\n",
    "        loss.backward()\n",
    "\n",
    "        opt.step()\n",
    "\n",
    "        opt.zero_grad()\n",
    "\n",
    "        history.append(loss.data.numpy())\n",
    "    x = torch.tensor(X_test, dtype=torch.float32)\n",
    "    \n",
    "    y_pred = model(x).data.numpy()\n",
    "    s += f1_score(y_test.argmax(axis=1), y_pred.argmax(axis = 1), average = 'macro')\n",
    "    print(f1_score(y_test.argmax(axis=1), y_pred.argmax(axis = 1), average = 'macro'))\n",
    "    if k%3 == 0:\n",
    "        print(k, (time.time() - t)/(k+1), s/(k+1))\n",
    "s / N"
   ]
  },
  {
   "cell_type": "code",
   "execution_count": 289,
   "metadata": {},
   "outputs": [],
   "source": [
    "class ValModel:\n",
    "    def __init__(self):\n",
    "        self.model = None\n",
    "        self.lb = LabelBinarizer()\n",
    "        \n",
    "    def fit(self, X, y):    \n",
    "        X, y = X.copy(), y.copy()\n",
    "        self.lb.fit(y)\n",
    "        y_train = self.lb.transform(y)\n",
    "        class_weight = [len([j for j in y_train if j[i] == 1]) for i in range(3)]\n",
    "        class_weight = [1/max(j,1) for j in class_weight]\n",
    "        self.model = Model(X_train.shape[1])\n",
    "        opt = torch.optim.Adam(self.model.parameters(), lr=1e-4)\n",
    "        history = []\n",
    "        for i in range(2400):\n",
    "            ix = np.random.randint(0, len(X_train), 10) \n",
    "            x_batch = torch.tensor(X_train[ix], dtype=torch.float32)\n",
    "            y_batch = torch.tensor(y_train[ix], dtype=torch.float32)\n",
    "\n",
    "            y_predicted = self.model(x_batch)\n",
    "\n",
    "            loss = F.binary_cross_entropy(y_predicted, y_batch, weight = torch.tensor(class_weight, dtype=torch.float32))\n",
    "\n",
    "            loss.backward()\n",
    "\n",
    "            opt.step()\n",
    "\n",
    "            opt.zero_grad()\n",
    "\n",
    "            history.append(loss.data.numpy())\n",
    "        return self\n",
    "            \n",
    "    def predict(self, X):\n",
    "        X = X.copy()\n",
    "        X = torch.tensor(X, dtype = torch.float32)\n",
    "        y_pred = self.model(X).data.numpy()\n",
    "        return y_pred.argmax(axis = 1)"
   ]
  },
  {
   "cell_type": "code",
   "execution_count": 293,
   "metadata": {},
   "outputs": [],
   "source": [
    "def my_cross_validate(model, X, y, cv, score_funcs = {}):\n",
    "    X, y =   X.copy(), y.copy()\n",
    "    \n",
    "    X, y = shuffle(X,y)\n",
    "    X_ = np.hstack([X, y.reshape(len(y), 1)])\n",
    "    blocks = np.array_split(X_, cv)\n",
    "    k = 0\n",
    "    model = ValModel()\n",
    "    scores = {key:0 for key in score_funcs}\n",
    "    while k < cv:\n",
    "        X_1 = blocks.pop(0)\n",
    "        X_2 = np.vstack(blocks)\n",
    "        X_train, y_train = X_2[:, :-1], X_2[:, -1]\n",
    "        model.fit(X_train, y_train)\n",
    "        X_test, y_test = X_1[:, :-1], X_1[:, -1]\n",
    "        y_pred = model.predict(X_test)\n",
    "        for key in score_funcs:\n",
    "            s = score_funcs[key](y_pred, y_test)\n",
    "            # print(key, s)\n",
    "            scores[key] += s/cv\n",
    "        blocks.append(X_1)\n",
    "        k+=1\n",
    "    return scores\n",
    "    \n",
    "#model = ValModel()\n",
    "#X_train, X_test, y_train, y_test = train_test_split(X, y1, test_size = 30)\n",
    "#model.fit(X_train, y_train)\n",
    "#f1_score(model.predict(X_train), y_train, average = \"macro\")"
   ]
  },
  {
   "cell_type": "code",
   "execution_count": 294,
   "metadata": {},
   "outputs": [],
   "source": [
    "model = ValModel()"
   ]
  },
  {
   "cell_type": "code",
   "execution_count": 295,
   "metadata": {},
   "outputs": [],
   "source": [
    "from sklearn.metrics import f1_score, precision_score, recall_score\n",
    "score_funcs = {\n",
    "    'f1_score_macro': lambda y_pred, y_test: f1_score(y_test, y_pred, average = \"macro\"),\n",
    "    'precision': lambda y_pred, y_test: precision_score(y_test, y_pred, average = \"macro\"),\n",
    "    'recall': lambda y_pred, y_test: recall_score(y_test, y_pred, average = \"macro\")\n",
    "}"
   ]
  },
  {
   "cell_type": "code",
   "execution_count": 296,
   "metadata": {},
   "outputs": [
    {
     "name": "stderr",
     "output_type": "stream",
     "text": [
      "/home/elias/anaconda3/lib/python3.7/site-packages/sklearn/metrics/classification.py:1143: UndefinedMetricWarning: F-score is ill-defined and being set to 0.0 in labels with no predicted samples.\n",
      "  'precision', 'predicted', average, warn_for)\n",
      "/home/elias/anaconda3/lib/python3.7/site-packages/sklearn/metrics/classification.py:1143: UndefinedMetricWarning: Precision is ill-defined and being set to 0.0 in labels with no predicted samples.\n",
      "  'precision', 'predicted', average, warn_for)\n",
      "/home/elias/anaconda3/lib/python3.7/site-packages/sklearn/metrics/classification.py:1143: UndefinedMetricWarning: F-score is ill-defined and being set to 0.0 in labels with no predicted samples.\n",
      "  'precision', 'predicted', average, warn_for)\n",
      "/home/elias/anaconda3/lib/python3.7/site-packages/sklearn/metrics/classification.py:1145: UndefinedMetricWarning: F-score is ill-defined and being set to 0.0 in labels with no true samples.\n",
      "  'recall', 'true', average, warn_for)\n",
      "/home/elias/anaconda3/lib/python3.7/site-packages/sklearn/metrics/classification.py:1143: UndefinedMetricWarning: Precision is ill-defined and being set to 0.0 in labels with no predicted samples.\n",
      "  'precision', 'predicted', average, warn_for)\n",
      "/home/elias/anaconda3/lib/python3.7/site-packages/sklearn/metrics/classification.py:1145: UndefinedMetricWarning: Recall is ill-defined and being set to 0.0 in labels with no true samples.\n",
      "  'recall', 'true', average, warn_for)\n",
      "/home/elias/anaconda3/lib/python3.7/site-packages/sklearn/metrics/classification.py:1143: UndefinedMetricWarning: F-score is ill-defined and being set to 0.0 in labels with no predicted samples.\n",
      "  'precision', 'predicted', average, warn_for)\n",
      "/home/elias/anaconda3/lib/python3.7/site-packages/sklearn/metrics/classification.py:1143: UndefinedMetricWarning: Precision is ill-defined and being set to 0.0 in labels with no predicted samples.\n",
      "  'precision', 'predicted', average, warn_for)\n",
      "/home/elias/anaconda3/lib/python3.7/site-packages/sklearn/metrics/classification.py:1143: UndefinedMetricWarning: F-score is ill-defined and being set to 0.0 in labels with no predicted samples.\n",
      "  'precision', 'predicted', average, warn_for)\n",
      "/home/elias/anaconda3/lib/python3.7/site-packages/sklearn/metrics/classification.py:1143: UndefinedMetricWarning: Precision is ill-defined and being set to 0.0 in labels with no predicted samples.\n",
      "  'precision', 'predicted', average, warn_for)\n",
      "/home/elias/anaconda3/lib/python3.7/site-packages/sklearn/metrics/classification.py:1143: UndefinedMetricWarning: F-score is ill-defined and being set to 0.0 in labels with no predicted samples.\n",
      "  'precision', 'predicted', average, warn_for)\n",
      "/home/elias/anaconda3/lib/python3.7/site-packages/sklearn/metrics/classification.py:1143: UndefinedMetricWarning: Precision is ill-defined and being set to 0.0 in labels with no predicted samples.\n",
      "  'precision', 'predicted', average, warn_for)\n",
      "/home/elias/anaconda3/lib/python3.7/site-packages/sklearn/metrics/classification.py:1143: UndefinedMetricWarning: F-score is ill-defined and being set to 0.0 in labels with no predicted samples.\n",
      "  'precision', 'predicted', average, warn_for)\n",
      "/home/elias/anaconda3/lib/python3.7/site-packages/sklearn/metrics/classification.py:1143: UndefinedMetricWarning: Precision is ill-defined and being set to 0.0 in labels with no predicted samples.\n",
      "  'precision', 'predicted', average, warn_for)\n",
      "/home/elias/anaconda3/lib/python3.7/site-packages/sklearn/metrics/classification.py:1143: UndefinedMetricWarning: F-score is ill-defined and being set to 0.0 in labels with no predicted samples.\n",
      "  'precision', 'predicted', average, warn_for)\n",
      "/home/elias/anaconda3/lib/python3.7/site-packages/sklearn/metrics/classification.py:1143: UndefinedMetricWarning: Precision is ill-defined and being set to 0.0 in labels with no predicted samples.\n",
      "  'precision', 'predicted', average, warn_for)\n",
      "/home/elias/anaconda3/lib/python3.7/site-packages/sklearn/metrics/classification.py:1143: UndefinedMetricWarning: F-score is ill-defined and being set to 0.0 in labels with no predicted samples.\n",
      "  'precision', 'predicted', average, warn_for)\n",
      "/home/elias/anaconda3/lib/python3.7/site-packages/sklearn/metrics/classification.py:1143: UndefinedMetricWarning: Precision is ill-defined and being set to 0.0 in labels with no predicted samples.\n",
      "  'precision', 'predicted', average, warn_for)\n",
      "/home/elias/anaconda3/lib/python3.7/site-packages/sklearn/metrics/classification.py:1143: UndefinedMetricWarning: F-score is ill-defined and being set to 0.0 in labels with no predicted samples.\n",
      "  'precision', 'predicted', average, warn_for)\n",
      "/home/elias/anaconda3/lib/python3.7/site-packages/sklearn/metrics/classification.py:1143: UndefinedMetricWarning: Precision is ill-defined and being set to 0.0 in labels with no predicted samples.\n",
      "  'precision', 'predicted', average, warn_for)\n"
     ]
    },
    {
     "data": {
      "text/plain": [
       "{'f1_score_macro': 0.33747576979933414,\n",
       " 'precision': 0.34918916402974376,\n",
       " 'recall': 0.37192113738452415}"
      ]
     },
     "execution_count": 296,
     "metadata": {},
     "output_type": "execute_result"
    }
   ],
   "source": [
    "my_cross_validate(model,X, y1, 10, score_funcs = score_funcs)"
   ]
  },
  {
   "cell_type": "code",
   "execution_count": null,
   "metadata": {},
   "outputs": [],
   "source": []
  }
 ],
 "metadata": {
  "kernelspec": {
   "display_name": "Python 3",
   "language": "python",
   "name": "python3"
  },
  "language_info": {
   "codemirror_mode": {
    "name": "ipython",
    "version": 3
   },
   "file_extension": ".py",
   "mimetype": "text/x-python",
   "name": "python",
   "nbconvert_exporter": "python",
   "pygments_lexer": "ipython3",
   "version": "3.7.3"
  }
 },
 "nbformat": 4,
 "nbformat_minor": 2
}
