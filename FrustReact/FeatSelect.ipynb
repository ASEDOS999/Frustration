{
 "cells": [
  {
   "cell_type": "markdown",
   "metadata": {},
   "source": [
    "# Not Scaled Data"
   ]
  },
  {
   "cell_type": "code",
   "execution_count": 21,
   "metadata": {},
   "outputs": [],
   "source": [
    "import pandas as pd\n",
    "xls = pd.ExcelFile(\"Фрустрация.xlsx\")\n",
    "data = pd.read_excel(xls, xls.sheet_names)    "
   ]
  },
  {
   "cell_type": "code",
   "execution_count": 22,
   "metadata": {},
   "outputs": [],
   "source": [
    "keys = [' E', ' E1', ' e_', ' M', ' M1', ' m_', ' I', ' I1', ' i_']\n",
    "\n",
    "keys1 = [[' E', ' E1', ' e_'],\n",
    "         [' M', ' M1', ' m_'],\n",
    "         [' I', ' I1', ' i_']]\n",
    "\n",
    "keys2 = [[' E', ' M', ' I'],\n",
    "        [' E1', ' M1', ' I1'],\n",
    "        [' e_', ' m_', ' i_']]\n",
    "def get_y(keys, data, init_keys = keys):\n",
    "    y = []\n",
    "    for ind, i in enumerate(init_keys):\n",
    "        for ind1, j in enumerate(keys):\n",
    "            if i in j:\n",
    "                y.append(ind1 * np.ones(len(data[i])))\n",
    "    return np.hstack(y)"
   ]
  },
  {
   "cell_type": "code",
   "execution_count": 23,
   "metadata": {},
   "outputs": [
    {
     "data": {
      "text/plain": [
       "Index(['Unnamed: 0', 'Число восклицательных знаков',\n",
       "       'Число вопросительных знаков', 'Число слов', 'Число символов',\n",
       "       'Число уникальных слов', 'Число клауз', 'Число предложений',\n",
       "       'Число знаков препинания',\n",
       "       'Средняя длина предложения (в количестве слов)',\n",
       "       ...\n",
       "       'Синтакс. связь: nummod', 'Синтакс. связь: nummod:gov',\n",
       "       'Синтакс. связь: obj', 'Синтакс. связь: obl', 'Синтакс. связь: orphan',\n",
       "       'Синтакс. связь: parataxis', 'Синтакс. связь: punct',\n",
       "       'Синтакс. связь: root', 'Синтакс. связь: xcomp',\n",
       "       'Синтакс. связь: compound'],\n",
       "      dtype='object', length=243)"
      ]
     },
     "execution_count": 23,
     "metadata": {},
     "output_type": "execute_result"
    }
   ],
   "source": [
    "data[keys[0]].columns"
   ]
  },
  {
   "cell_type": "code",
   "execution_count": 24,
   "metadata": {},
   "outputs": [],
   "source": [
    "def extract(list_of_texts):\n",
    "    res = []\n",
    "    for s in list_of_texts:\n",
    "        k = 0\n",
    "        for c in s:\n",
    "            if c.islower():\n",
    "                k += 1\n",
    "        res.append(k/len(s))\n",
    "    \n",
    "    return pd.DataFrame({\"Доля\":res})"
   ]
  },
  {
   "cell_type": "code",
   "execution_count": 25,
   "metadata": {},
   "outputs": [
    {
     "name": "stdout",
     "output_type": "stream",
     "text": [
      "dict_keys(['P3: E', 'P3: M', 'P3: m_', 'P3: e_', \"P3: I'\", \"P3: E'\", 'P3: i_', \"P3: M'\", 'P3: инф', 'P3: I', 'P3: n (\"надо\")'])\n"
     ]
    }
   ],
   "source": [
    "import json\n",
    "with open(\"p3_texts.json\", \"r\") as f:\n",
    "    texts = f.read()\n",
    "    texts = json.loads(texts)\n",
    "    f.close()\n",
    "print(texts.keys())\n",
    "for key in keys:\n",
    "    if key[-1] == '1':\n",
    "        key1 = key[:-1] + \"'\"\n",
    "    else:\n",
    "        key1 = key\n",
    "    data[key] = data[key].join( extract(texts['P3:' + key1]), rsuffix = \"___\")"
   ]
  },
  {
   "cell_type": "code",
   "execution_count": 26,
   "metadata": {},
   "outputs": [],
   "source": [
    "import numpy as np\n",
    "from sklearn.preprocessing import scale\n",
    "X = np.vstack([data[i].values for i in keys])\n",
    "X = X[:, 1:]\n",
    "y1 = get_y(keys1, data)\n",
    "y2 = get_y(keys2, data)"
   ]
  },
  {
   "cell_type": "code",
   "execution_count": 27,
   "metadata": {},
   "outputs": [
    {
     "name": "stdout",
     "output_type": "stream",
     "text": [
      "Число слов 36.49063670411985\n"
     ]
    }
   ],
   "source": [
    "print(\"Число слов\", X[:, 2].mean())"
   ]
  },
  {
   "cell_type": "code",
   "execution_count": 28,
   "metadata": {},
   "outputs": [
    {
     "name": "stdout",
     "output_type": "stream",
     "text": [
      "Число предложений 3.4569288389513106\n"
     ]
    }
   ],
   "source": [
    "print(\"Число предложений\", X[:, 6].mean())"
   ]
  },
  {
   "cell_type": "code",
   "execution_count": 29,
   "metadata": {},
   "outputs": [
    {
     "name": "stdout",
     "output_type": "stream",
     "text": [
      "Число символов 188.49812734082397\n"
     ]
    }
   ],
   "source": [
    "print(\"Число символов\", X[:, 3].mean())"
   ]
  },
  {
   "cell_type": "code",
   "execution_count": 92,
   "metadata": {},
   "outputs": [],
   "source": [
    "X = scale(X)\n",
    "# X_bin = np.where(X <= 0, 0, 1)"
   ]
  },
  {
   "cell_type": "markdown",
   "metadata": {},
   "source": [
    "## The First Union"
   ]
  },
  {
   "cell_type": "code",
   "execution_count": 108,
   "metadata": {},
   "outputs": [
    {
     "name": "stdout",
     "output_type": "stream",
     "text": [
      "(267, 243)\n"
     ]
    },
    {
     "data": {
      "text/plain": [
       "(267, 61)"
      ]
     },
     "execution_count": 108,
     "metadata": {},
     "output_type": "execute_result"
    }
   ],
   "source": [
    "from sklearn.feature_selection import SelectFromModel\n",
    "from sklearn.linear_model import LogisticRegression\n",
    "model = SelectFromModel(LogisticRegression(C = 0.2, penalty=\"l1\", multi_class = 'ovr', solver = 'liblinear'))\n",
    "model.fit(X, y1)\n",
    "X_new = model.transform(X)\n",
    "print(X.shape)\n",
    "X_new.shape"
   ]
  },
  {
   "cell_type": "code",
   "execution_count": 109,
   "metadata": {
    "scrolled": false
   },
   "outputs": [
    {
     "data": {
      "text/plain": [
       "0.4914439692992847"
      ]
     },
     "execution_count": 109,
     "metadata": {},
     "output_type": "execute_result"
    }
   ],
   "source": [
    "from sklearn.linear_model import LogisticRegression\n",
    "from sklearn.model_selection import cross_val_score\n",
    "from sklearn.utils import shuffle\n",
    "\n",
    "s = 0\n",
    "N = 1000\n",
    "for i in range(N):\n",
    "    X_, y = shuffle(X_new, y1)\n",
    "    model = LogisticRegression(C = 0.05, penalty = \"l2\", solver = \"liblinear\", class_weight = \"balanced\", multi_class = \"ovr\", max_iter = 100)\n",
    "    s+= cross_val_score(model, X_, y, cv = 3, scoring = \"f1_macro\").mean()\n",
    "s/N"
   ]
  },
  {
   "cell_type": "markdown",
   "metadata": {},
   "source": [
    "# Deep Learning Part"
   ]
  },
  {
   "cell_type": "code",
   "execution_count": 121,
   "metadata": {},
   "outputs": [],
   "source": [
    "from sklearn.preprocessing import LabelBinarizer\n",
    "lb = LabelBinarizer()\n",
    "lb.fit(y1)\n",
    "y = lb.transform(y1)"
   ]
  },
  {
   "cell_type": "code",
   "execution_count": 125,
   "metadata": {},
   "outputs": [],
   "source": [
    "import torch\n",
    "from torch import nn\n",
    "from torch.functional import F\n",
    "from sklearn.model_selection import train_test_split\n",
    "from sklearn.metrics import f1_score"
   ]
  },
  {
   "cell_type": "code",
   "execution_count": 157,
   "metadata": {},
   "outputs": [],
   "source": [
    "class Model(nn.Module):\n",
    "    def __init__(self, n_feat):\n",
    "        super(Model, self).__init__()\n",
    "        self.model = []\n",
    "        self.model.append(nn.Linear(in_features=n_feat, out_features=100))\n",
    "        self.model.append(nn.Dropout())\n",
    "        self.model.append(nn.ReLU())\n",
    "        self.model.append(nn.BatchNorm1d(100))\n",
    "        self.model.append(nn.Linear(in_features=100, out_features=1000))\n",
    "        self.model.append(nn.Dropout())\n",
    "        self.model.append(nn.ReLU())\n",
    "        self.model.append(nn.BatchNorm1d(1000))\n",
    "        self.model.append(nn.Linear(in_features=1000, out_features=3))\n",
    "        self.model.append(nn.Softmax(dim = 1))\n",
    "        [self.add_module(name = \"final_layer%d\"%(idx), module = layer) for idx, layer in enumerate(self.model)]\n",
    "        \n",
    "\n",
    "    def forward(self, whole_input):\n",
    "        out = whole_input\n",
    "        for layer in self.model:\n",
    "            out = layer(out)\n",
    "        \n",
    "        return out"
   ]
  },
  {
   "cell_type": "code",
   "execution_count": 158,
   "metadata": {},
   "outputs": [
    {
     "name": "stdout",
     "output_type": "stream",
     "text": [
      "0.6888888888888889\n",
      "0 46.77133083343506 0.6888888888888889\n",
      "0.5655223329641933\n",
      "0.4205128205128205\n",
      "0.3470899470899471\n",
      "3 49.510306000709534 0.5055034973639625\n",
      "0.37306201550387597\n",
      "0.367965367965368\n",
      "0.3074074074074074\n",
      "6 46.25251112665449 0.43863554004750016\n",
      "0.3965744400527009\n",
      "0.5833333333333333\n",
      "0.6703703703703704\n",
      "9 44.963056325912476 0.4720726924088905\n"
     ]
    },
    {
     "data": {
      "text/plain": [
       "0.4720726924088905"
      ]
     },
     "execution_count": 158,
     "metadata": {},
     "output_type": "execute_result"
    }
   ],
   "source": [
    "import time\n",
    "history = []\n",
    "s = 0\n",
    "N = 10\n",
    "t = time.time()\n",
    "for k in range(N):\n",
    "    X_train, X_test, y_train, y_test = train_test_split(X_new, y, test_size = 30)\n",
    "    model = Model(61)\n",
    "    class_weight = [len([j for j in y_train if j[i] == 1]) for i in range(3)]\n",
    "    class_weight = [1/j for j in class_weight]\n",
    "    opt = torch.optim.Adam(model.parameters(), lr=1e-4)\n",
    "    history = []\n",
    "    for i in range(2400):\n",
    "        ix = np.random.randint(0, len(X_train), 40) \n",
    "        x_batch = torch.tensor(X_train[ix], dtype=torch.float32)\n",
    "        y_batch = torch.tensor(y_train[ix], dtype=torch.float32)\n",
    "\n",
    "        y_predicted = model(x_batch)\n",
    "\n",
    "        loss = F.binary_cross_entropy(y_predicted, y_batch, weight = torch.tensor(class_weight, dtype=torch.float32))\n",
    "\n",
    "        loss.backward()\n",
    "\n",
    "        opt.step()\n",
    "\n",
    "        opt.zero_grad()\n",
    "\n",
    "        history.append(loss.data.numpy())\n",
    "    x = torch.tensor(X_test, dtype=torch.float32)\n",
    "    \n",
    "    y_pred = model(x).data.numpy()\n",
    "    s += f1_score(y_pred.argmax(axis = 1), y_test.argmax(axis=1), average = 'macro')\n",
    "    print(f1_score(y_pred.argmax(axis = 1), y_test.argmax(axis=1), average = 'macro'))\n",
    "    if k%3 == 0:\n",
    "        print(k, (time.time() - t)/(k+1), s/(k+1))\n",
    "s / N"
   ]
  },
  {
   "cell_type": "code",
   "execution_count": null,
   "metadata": {},
   "outputs": [],
   "source": []
  }
 ],
 "metadata": {
  "kernelspec": {
   "display_name": "Python 3",
   "language": "python",
   "name": "python3"
  },
  "language_info": {
   "codemirror_mode": {
    "name": "ipython",
    "version": 3
   },
   "file_extension": ".py",
   "mimetype": "text/x-python",
   "name": "python",
   "nbconvert_exporter": "python",
   "pygments_lexer": "ipython3",
   "version": "3.7.3"
  }
 },
 "nbformat": 4,
 "nbformat_minor": 2
}
