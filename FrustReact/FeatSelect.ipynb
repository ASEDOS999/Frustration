{
 "cells": [
  {
   "cell_type": "markdown",
   "metadata": {},
   "source": [
    "# Not Scaled Data"
   ]
  },
  {
   "cell_type": "code",
   "execution_count": 22,
   "metadata": {},
   "outputs": [],
   "source": [
    "import pandas as pd\n",
    "xls = pd.ExcelFile(\"Фрустрация.xlsx\")\n",
    "data = pd.read_excel(xls, xls.sheet_names)    "
   ]
  },
  {
   "cell_type": "code",
   "execution_count": 23,
   "metadata": {},
   "outputs": [],
   "source": [
    "keys = [' E', ' E1', ' e_', ' M', ' M1', ' m_', ' I', ' I1', ' i_']\n",
    "\n",
    "keys1 = [[' E', ' E1', ' e_'],\n",
    "         [' M', ' M1', ' m_'],\n",
    "         [' I', ' I1', ' i_']]\n",
    "\n",
    "keys2 = [[' E', ' M', ' I'],\n",
    "        [' E1', ' M1', ' I1'],\n",
    "        [' e_', ' m_', ' i_']]\n",
    "def get_y(keys, data, init_keys = keys):\n",
    "    y = []\n",
    "    for ind, i in enumerate(init_keys):\n",
    "        for ind1, j in enumerate(keys):\n",
    "            if i in j:\n",
    "                y.append(ind1 * np.ones(len(data[i])))\n",
    "    return np.hstack(y)"
   ]
  },
  {
   "cell_type": "code",
   "execution_count": 24,
   "metadata": {},
   "outputs": [],
   "source": [
    "col = data[keys[0]].columns"
   ]
  },
  {
   "cell_type": "code",
   "execution_count": 25,
   "metadata": {},
   "outputs": [],
   "source": [
    "def extract(list_of_texts):\n",
    "    res = []\n",
    "    for s in list_of_texts:\n",
    "        k = 0\n",
    "        for c in s:\n",
    "            if c.islower():\n",
    "                k += 1\n",
    "        res.append(k/len(s))\n",
    "    \n",
    "    return pd.DataFrame({\"Доля\":res})"
   ]
  },
  {
   "cell_type": "code",
   "execution_count": 26,
   "metadata": {},
   "outputs": [
    {
     "name": "stdout",
     "output_type": "stream",
     "text": [
      "dict_keys(['P3: E', 'P3: M', 'P3: m_', 'P3: e_', \"P3: I'\", \"P3: E'\", 'P3: i_', \"P3: M'\", 'P3: инф', 'P3: I', 'P3: n (\"надо\")'])\n"
     ]
    }
   ],
   "source": [
    "import json\n",
    "with open(\"p3_texts.json\", \"r\") as f:\n",
    "    texts = f.read()\n",
    "    texts = json.loads(texts)\n",
    "    f.close()\n",
    "print(texts.keys())\n",
    "for key in keys:\n",
    "    if key[-1] == '1':\n",
    "        key1 = key[:-1] + \"'\"\n",
    "    else:\n",
    "        key1 = key\n",
    "    data[key] = data[key].join( extract(texts['P3:' + key1]), rsuffix = \"___\")"
   ]
  },
  {
   "cell_type": "code",
   "execution_count": 27,
   "metadata": {},
   "outputs": [],
   "source": [
    "import numpy as np\n",
    "from sklearn.preprocessing import scale\n",
    "X = np.vstack([data[i].values for i in keys])\n",
    "X = X[:, 1:]\n",
    "y1 = get_y(keys1, data)\n",
    "y2 = get_y(keys2, data)"
   ]
  },
  {
   "cell_type": "code",
   "execution_count": 28,
   "metadata": {},
   "outputs": [
    {
     "name": "stdout",
     "output_type": "stream",
     "text": [
      "Число слов 36.49063670411985\n"
     ]
    }
   ],
   "source": [
    "print(\"Число слов\", X[:, 2].mean())"
   ]
  },
  {
   "cell_type": "code",
   "execution_count": 29,
   "metadata": {},
   "outputs": [
    {
     "name": "stdout",
     "output_type": "stream",
     "text": [
      "Число предложений 3.4569288389513106\n"
     ]
    }
   ],
   "source": [
    "print(\"Число предложений\", X[:, 6].mean())"
   ]
  },
  {
   "cell_type": "code",
   "execution_count": 30,
   "metadata": {
    "scrolled": true
   },
   "outputs": [
    {
     "name": "stdout",
     "output_type": "stream",
     "text": [
      "Число символов 188.49812734082397\n"
     ]
    }
   ],
   "source": [
    "print(\"Число символов\", X[:, 3].mean())"
   ]
  },
  {
   "cell_type": "code",
   "execution_count": 31,
   "metadata": {},
   "outputs": [
    {
     "data": {
      "text/plain": [
       "(267, 243)"
      ]
     },
     "execution_count": 31,
     "metadata": {},
     "output_type": "execute_result"
    }
   ],
   "source": [
    "# X = scale(X)\n",
    "# X_bin = np.where(X <= 0, 0, 1)\n",
    "X.shape"
   ]
  },
  {
   "cell_type": "markdown",
   "metadata": {},
   "source": [
    "## The First Union"
   ]
  },
  {
   "cell_type": "code",
   "execution_count": 93,
   "metadata": {},
   "outputs": [],
   "source": [
    "from sklearn.pipeline import Pipeline\n",
    "\n",
    "from sklearn.preprocessing import StandardScaler\n",
    "from sklearn.preprocessing import PolynomialFeatures\n",
    "\n",
    "from sklearn.feature_selection import SelectFromModel\n",
    "\n",
    "from sklearn.linear_model import LogisticRegression, Lasso\n",
    "\n",
    "model = Pipeline([\n",
    "    #('first_scaler', StandardScaler()),\n",
    "    #('first_select', SelectFromModel(LogisticRegression(C = 0.5, \n",
    "    #                                                    penalty=\"l1\", \n",
    "    #                                                    multi_class = 'ovr', \n",
    "    #                                                    solver = 'liblinear'))),\n",
    "    #('PolyPreproc', PolynomialFeatures(2)),\n",
    "    ('second_scaler', StandardScaler()),\n",
    "    ('second_select', SelectFromModel(LogisticRegression(C = 0.2, \n",
    "                                                        penalty=\"l1\", \n",
    "                                                        multi_class = 'ovr', \n",
    "                                                        class_weight = \"balanced\",\n",
    "                                                        solver = 'liblinear'))),\n",
    "    ('main_model', LogisticRegression(C = 0.05,\n",
    "                                      penalty = \"l2\",\n",
    "                                      solver = \"liblinear\",\n",
    "                                      class_weight = \"balanced\",\n",
    "                                      multi_class = \"ovr\",\n",
    "                                      max_iter = 100))\n",
    "])"
   ]
  },
  {
   "cell_type": "code",
   "execution_count": 94,
   "metadata": {
    "scrolled": true
   },
   "outputs": [
    {
     "name": "stderr",
     "output_type": "stream",
     "text": [
      "/home/elias/anaconda3/lib/python3.7/site-packages/sklearn/metrics/classification.py:1143: UndefinedMetricWarning: F-score is ill-defined and being set to 0.0 in labels with no predicted samples.\n",
      "  'precision', 'predicted', average, warn_for)\n",
      "/home/elias/anaconda3/lib/python3.7/site-packages/sklearn/metrics/classification.py:1143: UndefinedMetricWarning: F-score is ill-defined and being set to 0.0 in labels with no predicted samples.\n",
      "  'precision', 'predicted', average, warn_for)\n",
      "/home/elias/anaconda3/lib/python3.7/site-packages/sklearn/metrics/classification.py:1143: UndefinedMetricWarning: F-score is ill-defined and being set to 0.0 in labels with no predicted samples.\n",
      "  'precision', 'predicted', average, warn_for)\n"
     ]
    },
    {
     "data": {
      "text/plain": [
       "0.3891043177465283"
      ]
     },
     "execution_count": 94,
     "metadata": {},
     "output_type": "execute_result"
    }
   ],
   "source": [
    "from sklearn.model_selection import cross_val_score\n",
    "from sklearn.utils import shuffle\n",
    "\n",
    "s = 0\n",
    "N = 250\n",
    "for i in range(N):\n",
    "    X_, y = shuffle(X, y1)\n",
    "    s+= cross_val_score(model, X_, y, cv = 4, scoring = \"f1_macro\").mean()\n",
    "s/N"
   ]
  },
  {
   "cell_type": "markdown",
   "metadata": {},
   "source": [
    "# Deep Learning Part"
   ]
  },
  {
   "cell_type": "code",
   "execution_count": 121,
   "metadata": {},
   "outputs": [],
   "source": [
    "from sklearn.preprocessing import LabelBinarizer\n",
    "lb = LabelBinarizer()\n",
    "lb.fit(y1)\n",
    "y = lb.transform(y1)"
   ]
  },
  {
   "cell_type": "code",
   "execution_count": 125,
   "metadata": {},
   "outputs": [],
   "source": [
    "import torch\n",
    "from torch import nn\n",
    "from torch.functional import F\n",
    "from sklearn.model_selection import train_test_split\n",
    "from sklearn.metrics import f1_score"
   ]
  },
  {
   "cell_type": "code",
   "execution_count": 167,
   "metadata": {},
   "outputs": [],
   "source": [
    "class Model(nn.Module):\n",
    "    def __init__(self, n_feat):\n",
    "        super(Model, self).__init__()\n",
    "        self.model = []\n",
    "        self.model.append(nn.Linear(in_features=n_feat, out_features=100))\n",
    "        self.model.append(nn.Dropout())\n",
    "        self.model.append(nn.ReLU())\n",
    "        self.model.append(nn.BatchNorm1d(100))\n",
    "        self.model.append(nn.Linear(in_features=100, out_features=1000))\n",
    "        self.model.append(nn.Dropout())\n",
    "        self.model.append(nn.ReLU())\n",
    "        self.model.append(nn.BatchNorm1d(1000))\n",
    "        self.model.append(nn.Linear(in_features=1000, out_features=3))\n",
    "        self.model.append(nn.Sigmoid())\n",
    "        self.model.append(nn.Softmax(dim = 1))\n",
    "        [self.add_module(name = \"final_layer%d\"%(idx), module = layer) for idx, layer in enumerate(self.model)]\n",
    "        \n",
    "\n",
    "    def forward(self, whole_input):\n",
    "        out = whole_input\n",
    "        for layer in self.model:\n",
    "            out = layer(out)\n",
    "        \n",
    "        return out"
   ]
  },
  {
   "cell_type": "code",
   "execution_count": 168,
   "metadata": {},
   "outputs": [
    {
     "name": "stdout",
     "output_type": "stream",
     "text": [
      "0.3619047619047619\n",
      "0 40.10628414154053 0.3619047619047619\n",
      "0.3274853801169591\n",
      "0.7302325581395349\n",
      "0.39898989898989895\n",
      "3 42.03406137228012 0.45465314978778876\n",
      "0.45652173913043476\n",
      "0.3387755102040817\n",
      "0.6563011456628478\n",
      "6 44.90193149021694 0.46717299916407423\n",
      "0.27450980392156865\n",
      "0.3878787878787879\n",
      "0.4259259259259259\n",
      "9 46.257529211044314 0.4358525511874801\n"
     ]
    },
    {
     "data": {
      "text/plain": [
       "0.4358525511874801"
      ]
     },
     "execution_count": 168,
     "metadata": {},
     "output_type": "execute_result"
    }
   ],
   "source": [
    "import time\n",
    "history = []\n",
    "s = 0\n",
    "N = 10\n",
    "t = time.time()\n",
    "for k in range(N):\n",
    "    X_train, X_test, y_train, y_test = train_test_split(X_new, y, test_size = 30)\n",
    "    model = Model(61)\n",
    "    class_weight = [len([j for j in y_train if j[i] == 1]) for i in range(3)]\n",
    "    class_weight = [1/j for j in class_weight]\n",
    "    opt = torch.optim.Adam(model.parameters(), lr=1e-4)\n",
    "    history = []\n",
    "    for i in range(2400):\n",
    "        ix = np.random.randint(0, len(X_train), 40) \n",
    "        x_batch = torch.tensor(X_train[ix], dtype=torch.float32)\n",
    "        y_batch = torch.tensor(y_train[ix], dtype=torch.float32)\n",
    "\n",
    "        y_predicted = model(x_batch)\n",
    "\n",
    "        loss = F.binary_cross_entropy(y_predicted, y_batch, weight = torch.tensor(class_weight, dtype=torch.float32))\n",
    "\n",
    "        loss.backward()\n",
    "\n",
    "        opt.step()\n",
    "\n",
    "        opt.zero_grad()\n",
    "\n",
    "        history.append(loss.data.numpy())\n",
    "    x = torch.tensor(X_test, dtype=torch.float32)\n",
    "    \n",
    "    y_pred = model(x).data.numpy()\n",
    "    s += f1_score(y_pred.argmax(axis = 1), y_test.argmax(axis=1), average = 'macro')\n",
    "    print(f1_score(y_pred.argmax(axis = 1), y_test.argmax(axis=1), average = 'macro'))\n",
    "    if k%3 == 0:\n",
    "        print(k, (time.time() - t)/(k+1), s/(k+1))\n",
    "s / N"
   ]
  },
  {
   "cell_type": "code",
   "execution_count": null,
   "metadata": {},
   "outputs": [],
   "source": []
  }
 ],
 "metadata": {
  "kernelspec": {
   "display_name": "Python 3",
   "language": "python",
   "name": "python3"
  },
  "language_info": {
   "codemirror_mode": {
    "name": "ipython",
    "version": 3
   },
   "file_extension": ".py",
   "mimetype": "text/x-python",
   "name": "python",
   "nbconvert_exporter": "python",
   "pygments_lexer": "ipython3",
   "version": "3.7.3"
  }
 },
 "nbformat": 4,
 "nbformat_minor": 2
}
