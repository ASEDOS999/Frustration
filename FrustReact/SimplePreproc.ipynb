{
 "cells": [
  {
   "cell_type": "markdown",
   "metadata": {},
   "source": [
    "# Not Scaled Data"
   ]
  },
  {
   "cell_type": "code",
   "execution_count": 33,
   "metadata": {},
   "outputs": [],
   "source": [
    "import pandas as pd\n",
    "xls = pd.ExcelFile(\"Фрустрация.xlsx\")\n",
    "data = pd.read_excel(xls, xls.sheet_names)    "
   ]
  },
  {
   "cell_type": "code",
   "execution_count": 34,
   "metadata": {},
   "outputs": [],
   "source": [
    "keys = [' E', ' E1', ' e_', ' M', ' M1', ' m_', ' I', ' I1', ' i_']\n",
    "\n",
    "keys1 = [[' E', ' E1', ' e_'],\n",
    "         [' M', ' M1', ' m_'],\n",
    "         [' I', ' I1', ' i_']]\n",
    "\n",
    "keys2 = [[' E', ' M', ' I'],\n",
    "        [' E1', ' M1', ' I1'],\n",
    "        [' e_', ' m_', ' i_']]\n",
    "def get_y(keys, data, init_keys = keys):\n",
    "    y = []\n",
    "    for ind, i in enumerate(init_keys):\n",
    "        for ind1, j in enumerate(keys):\n",
    "            if i in j:\n",
    "                y.append(ind1 * np.ones(len(data[i])))\n",
    "    return np.hstack(y)"
   ]
  },
  {
   "cell_type": "code",
   "execution_count": 35,
   "metadata": {},
   "outputs": [
    {
     "data": {
      "text/plain": [
       "Index(['Unnamed: 0', 'Число восклицательных знаков',\n",
       "       'Число вопросительных знаков', 'Число слов', 'Число символов',\n",
       "       'Число уникальных слов', 'Число клауз', 'Число предложений',\n",
       "       'Число знаков препинания',\n",
       "       'Средняя длина предложения (в количестве слов)',\n",
       "       ...\n",
       "       'Синтакс. связь: nummod', 'Синтакс. связь: nummod:gov',\n",
       "       'Синтакс. связь: obj', 'Синтакс. связь: obl', 'Синтакс. связь: orphan',\n",
       "       'Синтакс. связь: parataxis', 'Синтакс. связь: punct',\n",
       "       'Синтакс. связь: root', 'Синтакс. связь: xcomp',\n",
       "       'Синтакс. связь: compound'],\n",
       "      dtype='object', length=243)"
      ]
     },
     "execution_count": 35,
     "metadata": {},
     "output_type": "execute_result"
    }
   ],
   "source": [
    "data[keys[0]].columns"
   ]
  },
  {
   "cell_type": "code",
   "execution_count": 268,
   "metadata": {},
   "outputs": [],
   "source": [
    "import numpy as np\n",
    "from sklearn.preprocessing import scale\n",
    "X = np.vstack([data[i].values for i in keys])\n",
    "X = X[:, 1:]\n",
    "y1 = get_y(keys1, data)\n",
    "y2 = get_y(keys2, data)"
   ]
  },
  {
   "cell_type": "code",
   "execution_count": 269,
   "metadata": {},
   "outputs": [
    {
     "name": "stdout",
     "output_type": "stream",
     "text": [
      "Число слов 36.49063670411985\n"
     ]
    }
   ],
   "source": [
    "print(\"Число слов\", X[:, 2].mean())"
   ]
  },
  {
   "cell_type": "code",
   "execution_count": 270,
   "metadata": {},
   "outputs": [
    {
     "name": "stdout",
     "output_type": "stream",
     "text": [
      "Число предложений 3.4569288389513106\n"
     ]
    }
   ],
   "source": [
    "print(\"Число предложений\", X[:, 6].mean())"
   ]
  },
  {
   "cell_type": "code",
   "execution_count": 271,
   "metadata": {},
   "outputs": [
    {
     "name": "stdout",
     "output_type": "stream",
     "text": [
      "Число символов 188.49812734082397\n"
     ]
    }
   ],
   "source": [
    "print(\"Число символов\", X[:, 3].mean())"
   ]
  },
  {
   "cell_type": "code",
   "execution_count": 272,
   "metadata": {},
   "outputs": [],
   "source": [
    "X = scale(X)"
   ]
  },
  {
   "cell_type": "markdown",
   "metadata": {},
   "source": [
    "## The First Union"
   ]
  },
  {
   "cell_type": "markdown",
   "metadata": {},
   "source": [
    "### 1. Not binarized data"
   ]
  },
  {
   "cell_type": "code",
   "execution_count": 292,
   "metadata": {
    "scrolled": true
   },
   "outputs": [
    {
     "name": "stdout",
     "output_type": "stream",
     "text": [
      "(267, 242)\n"
     ]
    },
    {
     "data": {
      "text/plain": [
       "0.43394302456802464"
      ]
     },
     "execution_count": 292,
     "metadata": {},
     "output_type": "execute_result"
    }
   ],
   "source": [
    "from sklearn.linear_model import LogisticRegression\n",
    "from sklearn.model_selection import cross_val_score\n",
    "from sklearn.utils import shuffle\n",
    "\n",
    "X_, y = shuffle(X, y1)\n",
    "print(X_.shape)\n",
    "model = LogisticRegression(penalty = \"l1\", solver = \"liblinear\", class_weight = \"balanced\", multi_class = \"ovr\")\n",
    "cross_val_score(model, X_, y, cv = 3, scoring = \"f1_macro\").mean()"
   ]
  },
  {
   "cell_type": "code",
   "execution_count": 293,
   "metadata": {
    "scrolled": true
   },
   "outputs": [
    {
     "name": "stdout",
     "output_type": "stream",
     "text": [
      "(267, 156)\n"
     ]
    },
    {
     "data": {
      "text/plain": [
       "0.39070944088433307"
      ]
     },
     "execution_count": 293,
     "metadata": {},
     "output_type": "execute_result"
    }
   ],
   "source": [
    "from sklearn.linear_model import LogisticRegression\n",
    "\n",
    "X_ = PCA(1 - 1e-3).fit(X_).transform(X_)\n",
    "print(X_.shape)\n",
    "model = LogisticRegression(penalty = \"l1\", solver = \"liblinear\", class_weight = \"balanced\", multi_class = \"ovr\")\n",
    "cross_val_score(model, X_, y, cv = 3, scoring = \"f1_macro\").mean()"
   ]
  },
  {
   "cell_type": "code",
   "execution_count": 295,
   "metadata": {},
   "outputs": [
    {
     "data": {
      "text/plain": [
       "0.3182916672146167"
      ]
     },
     "execution_count": 295,
     "metadata": {},
     "output_type": "execute_result"
    }
   ],
   "source": [
    "from sklearn.ensemble import GradientBoostingClassifier\n",
    "\n",
    "model = GradientBoostingClassifier(n_estimators = 1000, max_depth = 10)\n",
    "\n",
    "cross_val_score(model, X_, y, cv = 3, scoring = \"f1_macro\").mean()"
   ]
  },
  {
   "cell_type": "markdown",
   "metadata": {},
   "source": [
    "### 2. Binarized data"
   ]
  },
  {
   "cell_type": "code",
   "execution_count": 296,
   "metadata": {
    "scrolled": true
   },
   "outputs": [
    {
     "name": "stdout",
     "output_type": "stream",
     "text": [
      "(267, 484)\n"
     ]
    },
    {
     "data": {
      "text/plain": [
       "0.3693661227392415"
      ]
     },
     "execution_count": 296,
     "metadata": {},
     "output_type": "execute_result"
    }
   ],
   "source": [
    "from sklearn.linear_model import LogisticRegression\n",
    "from sklearn.model_selection import cross_val_score\n",
    "from sklearn.utils import shuffle\n",
    "\n",
    "X_, y = shuffle(X_bin, y1)\n",
    "print(X_.shape)\n",
    "model = LogisticRegression(penalty = \"l1\", solver = \"liblinear\", class_weight = \"balanced\", multi_class = \"ovr\")\n",
    "cross_val_score(model, X_, y, cv = 3, scoring = \"f1_macro\").mean()"
   ]
  },
  {
   "cell_type": "code",
   "execution_count": 297,
   "metadata": {
    "scrolled": true
   },
   "outputs": [
    {
     "name": "stdout",
     "output_type": "stream",
     "text": [
      "(267, 203)\n"
     ]
    },
    {
     "data": {
      "text/plain": [
       "0.3023163555211201"
      ]
     },
     "execution_count": 297,
     "metadata": {},
     "output_type": "execute_result"
    }
   ],
   "source": [
    "from sklearn.linear_model import LogisticRegression\n",
    "\n",
    "X_ = PCA(1 - 1e-3).fit(X_).transform(X_)\n",
    "print(X_.shape)\n",
    "model = LogisticRegression(penalty = \"l1\", solver = \"liblinear\", class_weight = \"balanced\", multi_class = \"ovr\")\n",
    "cross_val_score(model, X_, y, cv = 3, scoring = \"f1_macro\").mean()"
   ]
  },
  {
   "cell_type": "code",
   "execution_count": 298,
   "metadata": {},
   "outputs": [
    {
     "name": "stderr",
     "output_type": "stream",
     "text": [
      "/home/elias/anaconda3/lib/python3.7/site-packages/sklearn/metrics/classification.py:1143: UndefinedMetricWarning: F-score is ill-defined and being set to 0.0 in labels with no predicted samples.\n",
      "  'precision', 'predicted', average, warn_for)\n",
      "/home/elias/anaconda3/lib/python3.7/site-packages/sklearn/metrics/classification.py:1143: UndefinedMetricWarning: F-score is ill-defined and being set to 0.0 in labels with no predicted samples.\n",
      "  'precision', 'predicted', average, warn_for)\n"
     ]
    },
    {
     "data": {
      "text/plain": [
       "0.3116150044761569"
      ]
     },
     "execution_count": 298,
     "metadata": {},
     "output_type": "execute_result"
    }
   ],
   "source": [
    "from sklearn.ensemble import GradientBoostingClassifier\n",
    "\n",
    "model = GradientBoostingClassifier(n_estimators = 1000, max_depth = 10)\n",
    "\n",
    "cross_val_score(model, X_, y, cv = 3, scoring = \"f1_macro\").mean()"
   ]
  },
  {
   "cell_type": "markdown",
   "metadata": {},
   "source": [
    "## The Second Union"
   ]
  },
  {
   "cell_type": "markdown",
   "metadata": {},
   "source": [
    "### 1. Not binarized data"
   ]
  },
  {
   "cell_type": "code",
   "execution_count": 320,
   "metadata": {
    "scrolled": false
   },
   "outputs": [
    {
     "name": "stdout",
     "output_type": "stream",
     "text": [
      "(267, 242)\n"
     ]
    },
    {
     "data": {
      "text/plain": [
       "0.3493170155919523"
      ]
     },
     "execution_count": 320,
     "metadata": {},
     "output_type": "execute_result"
    }
   ],
   "source": [
    "from sklearn.linear_model import LogisticRegression\n",
    "from sklearn.model_selection import cross_val_score\n",
    "from sklearn.utils import shuffle\n",
    "\n",
    "X_, y = shuffle(X, y2)\n",
    "print(X_.shape)\n",
    "model = LogisticRegression(penalty = \"l1\", solver = \"liblinear\", class_weight = \"balanced\", multi_class = \"ovr\")\n",
    "cross_val_score(model, X_, y, cv = 3, scoring = \"f1_macro\").mean()"
   ]
  },
  {
   "cell_type": "code",
   "execution_count": 321,
   "metadata": {
    "scrolled": true
   },
   "outputs": [
    {
     "name": "stdout",
     "output_type": "stream",
     "text": [
      "(267, 156)\n"
     ]
    },
    {
     "data": {
      "text/plain": [
       "0.366996217602315"
      ]
     },
     "execution_count": 321,
     "metadata": {},
     "output_type": "execute_result"
    }
   ],
   "source": [
    "from sklearn.linear_model import LogisticRegression\n",
    "\n",
    "X_ = PCA(1 - 1e-3).fit(X_).transform(X_)\n",
    "print(X_.shape)\n",
    "model = LogisticRegression(penalty = \"l1\", solver = \"liblinear\", class_weight = \"balanced\", multi_class = \"ovr\")\n",
    "cross_val_score(model, X_, y, cv = 3, scoring = \"f1_macro\").mean()"
   ]
  },
  {
   "cell_type": "code",
   "execution_count": 322,
   "metadata": {},
   "outputs": [
    {
     "data": {
      "text/plain": [
       "0.34228207437427294"
      ]
     },
     "execution_count": 322,
     "metadata": {},
     "output_type": "execute_result"
    }
   ],
   "source": [
    "from sklearn.ensemble import GradientBoostingClassifier\n",
    "\n",
    "model = GradientBoostingClassifier(n_estimators = 10, max_depth = 5)\n",
    "\n",
    "cross_val_score(model, X_, y, cv = 3, scoring = \"f1_macro\").mean()"
   ]
  },
  {
   "cell_type": "markdown",
   "metadata": {},
   "source": [
    "### 2. Binarized data"
   ]
  },
  {
   "cell_type": "code",
   "execution_count": 326,
   "metadata": {
    "scrolled": true
   },
   "outputs": [
    {
     "name": "stdout",
     "output_type": "stream",
     "text": [
      "(267, 484)\n"
     ]
    },
    {
     "data": {
      "text/plain": [
       "0.35510332478836415"
      ]
     },
     "execution_count": 326,
     "metadata": {},
     "output_type": "execute_result"
    }
   ],
   "source": [
    "from sklearn.linear_model import LogisticRegression\n",
    "from sklearn.model_selection import cross_val_score\n",
    "from sklearn.utils import shuffle\n",
    "\n",
    "X_, y = shuffle(X_bin, y2)\n",
    "print(X_.shape)\n",
    "model = LogisticRegression(penalty = \"l1\", solver = \"liblinear\", class_weight = \"balanced\", multi_class = \"ovr\")\n",
    "cross_val_score(model, X_, y, cv = 3, scoring = \"f1_macro\").mean()"
   ]
  },
  {
   "cell_type": "code",
   "execution_count": 327,
   "metadata": {
    "scrolled": true
   },
   "outputs": [
    {
     "name": "stdout",
     "output_type": "stream",
     "text": [
      "(267, 203)\n"
     ]
    },
    {
     "data": {
      "text/plain": [
       "0.3216505447178342"
      ]
     },
     "execution_count": 327,
     "metadata": {},
     "output_type": "execute_result"
    }
   ],
   "source": [
    "from sklearn.linear_model import LogisticRegression\n",
    "\n",
    "X_ = PCA(1 - 1e-3).fit(X_).transform(X_)\n",
    "print(X_.shape)\n",
    "model = LogisticRegression(penalty = \"l1\", solver = \"liblinear\", class_weight = \"balanced\", multi_class = \"ovr\")\n",
    "cross_val_score(model, X_, y, cv = 3, scoring = \"f1_macro\").mean()"
   ]
  },
  {
   "cell_type": "code",
   "execution_count": 328,
   "metadata": {},
   "outputs": [
    {
     "name": "stderr",
     "output_type": "stream",
     "text": [
      "/home/elias/anaconda3/lib/python3.7/site-packages/sklearn/metrics/classification.py:1143: UndefinedMetricWarning: F-score is ill-defined and being set to 0.0 in labels with no predicted samples.\n",
      "  'precision', 'predicted', average, warn_for)\n"
     ]
    },
    {
     "data": {
      "text/plain": [
       "0.30451303293029913"
      ]
     },
     "execution_count": 328,
     "metadata": {},
     "output_type": "execute_result"
    }
   ],
   "source": [
    "from sklearn.ensemble import GradientBoostingClassifier\n",
    "\n",
    "model = GradientBoostingClassifier(n_estimators = 1000, max_depth = 10)\n",
    "\n",
    "cross_val_score(model, X_, y, cv = 3, scoring = \"f1_macro\").mean()"
   ]
  },
  {
   "cell_type": "markdown",
   "metadata": {},
   "source": [
    "# Scaled Data"
   ]
  },
  {
   "cell_type": "code",
   "execution_count": 329,
   "metadata": {},
   "outputs": [],
   "source": [
    "import pandas as pd\n",
    "xls = pd.ExcelFile(\"Фрустрация.xlsx\")\n",
    "data = pd.read_excel(xls, xls.sheet_names)    "
   ]
  },
  {
   "cell_type": "code",
   "execution_count": 330,
   "metadata": {},
   "outputs": [],
   "source": [
    "keys = [' E', ' E1', ' e_', ' M', ' M1', ' m_', ' I', ' I1', ' i_']\n",
    "\n",
    "keys1 = [[' E', ' E1', ' e_'],\n",
    "         [' M', ' M1', ' m_'],\n",
    "         [' I', ' I1', ' i_']]\n",
    "\n",
    "keys2 = [[' E', ' M', ' I'],\n",
    "        [' E1', ' M1', ' I1'],\n",
    "        [' e_', ' m_', ' i_']]\n",
    "def get_y(keys, data, init_keys = keys):\n",
    "    y = []\n",
    "    for ind, i in enumerate(init_keys):\n",
    "        for ind1, j in enumerate(keys):\n",
    "            if i in j:\n",
    "                y.append(ind1 * np.ones(len(data[i])))\n",
    "    return np.hstack(y)"
   ]
  },
  {
   "cell_type": "code",
   "execution_count": 331,
   "metadata": {},
   "outputs": [
    {
     "data": {
      "text/plain": [
       "Index(['Unnamed: 0', 'Число восклицательных знаков',\n",
       "       'Число вопросительных знаков', 'Число слов', 'Число символов',\n",
       "       'Число уникальных слов', 'Число клауз', 'Число предложений',\n",
       "       'Число знаков препинания',\n",
       "       'Средняя длина предложения (в количестве слов)',\n",
       "       ...\n",
       "       'Синтакс. связь: nummod', 'Синтакс. связь: nummod:gov',\n",
       "       'Синтакс. связь: obj', 'Синтакс. связь: obl', 'Синтакс. связь: orphan',\n",
       "       'Синтакс. связь: parataxis', 'Синтакс. связь: punct',\n",
       "       'Синтакс. связь: root', 'Синтакс. связь: xcomp',\n",
       "       'Синтакс. связь: compound'],\n",
       "      dtype='object', length=243)"
      ]
     },
     "execution_count": 331,
     "metadata": {},
     "output_type": "execute_result"
    }
   ],
   "source": [
    "data[keys[0]].columns"
   ]
  },
  {
   "cell_type": "code",
   "execution_count": 332,
   "metadata": {},
   "outputs": [],
   "source": [
    "import numpy as np\n",
    "from sklearn.preprocessing import scale\n",
    "X = np.vstack([data[i].values for i in keys])\n",
    "X = X[:, 1:]\n",
    "X1 = X/X[:, 6][:, None]\n",
    "X = np.hstack([X, X1])\n",
    "y1 = get_y(keys1, data)\n",
    "y2 = get_y(keys2, data)"
   ]
  },
  {
   "cell_type": "code",
   "execution_count": 333,
   "metadata": {},
   "outputs": [
    {
     "name": "stdout",
     "output_type": "stream",
     "text": [
      "Число слов 36.49063670411985\n"
     ]
    }
   ],
   "source": [
    "print(\"Число слов\", X[:, 2].mean())"
   ]
  },
  {
   "cell_type": "code",
   "execution_count": 334,
   "metadata": {},
   "outputs": [
    {
     "name": "stdout",
     "output_type": "stream",
     "text": [
      "Число предложений 3.4569288389513106\n"
     ]
    }
   ],
   "source": [
    "print(\"Число предложений\", X[:, 6].mean())"
   ]
  },
  {
   "cell_type": "code",
   "execution_count": 335,
   "metadata": {},
   "outputs": [
    {
     "name": "stdout",
     "output_type": "stream",
     "text": [
      "Число символов 188.49812734082397\n"
     ]
    }
   ],
   "source": [
    "print(\"Число символов\", X[:, 3].mean())"
   ]
  },
  {
   "cell_type": "code",
   "execution_count": 336,
   "metadata": {},
   "outputs": [],
   "source": [
    "X = scale(X)"
   ]
  },
  {
   "cell_type": "markdown",
   "metadata": {},
   "source": [
    "## The First Union"
   ]
  },
  {
   "cell_type": "markdown",
   "metadata": {},
   "source": [
    "### 1. Not binarized data"
   ]
  },
  {
   "cell_type": "code",
   "execution_count": 339,
   "metadata": {
    "scrolled": true
   },
   "outputs": [
    {
     "name": "stdout",
     "output_type": "stream",
     "text": [
      "(267, 484)\n"
     ]
    },
    {
     "data": {
      "text/plain": [
       "0.36229172215994154"
      ]
     },
     "execution_count": 339,
     "metadata": {},
     "output_type": "execute_result"
    }
   ],
   "source": [
    "from sklearn.linear_model import LogisticRegression\n",
    "from sklearn.model_selection import cross_val_score\n",
    "from sklearn.utils import shuffle\n",
    "\n",
    "X_, y = shuffle(X, y1)\n",
    "print(X_.shape)\n",
    "model = LogisticRegression(penalty = \"l1\", solver = \"liblinear\", class_weight = \"balanced\", multi_class = \"ovr\")\n",
    "cross_val_score(model, X_, y, cv = 3, scoring = \"f1_macro\").mean()"
   ]
  },
  {
   "cell_type": "code",
   "execution_count": 340,
   "metadata": {
    "scrolled": true
   },
   "outputs": [
    {
     "name": "stdout",
     "output_type": "stream",
     "text": [
      "(267, 210)\n"
     ]
    },
    {
     "data": {
      "text/plain": [
       "0.3847580460729462"
      ]
     },
     "execution_count": 340,
     "metadata": {},
     "output_type": "execute_result"
    }
   ],
   "source": [
    "from sklearn.linear_model import LogisticRegression\n",
    "\n",
    "X_ = PCA(1 - 1e-3).fit(X_).transform(X_)\n",
    "print(X_.shape)\n",
    "model = LogisticRegression(penalty = \"l1\", solver = \"liblinear\", class_weight = \"balanced\", multi_class = \"ovr\")\n",
    "cross_val_score(model, X_, y, cv = 3, scoring = \"f1_macro\").mean()"
   ]
  },
  {
   "cell_type": "code",
   "execution_count": 341,
   "metadata": {},
   "outputs": [
    {
     "name": "stderr",
     "output_type": "stream",
     "text": [
      "/home/elias/anaconda3/lib/python3.7/site-packages/sklearn/metrics/classification.py:1143: UndefinedMetricWarning: F-score is ill-defined and being set to 0.0 in labels with no predicted samples.\n",
      "  'precision', 'predicted', average, warn_for)\n"
     ]
    },
    {
     "data": {
      "text/plain": [
       "0.3401598969408239"
      ]
     },
     "execution_count": 341,
     "metadata": {},
     "output_type": "execute_result"
    }
   ],
   "source": [
    "from sklearn.ensemble import GradientBoostingClassifier\n",
    "\n",
    "model = GradientBoostingClassifier(n_estimators = 1000, max_depth = 10)\n",
    "\n",
    "cross_val_score(model, X_, y, cv = 3, scoring = \"f1_macro\").mean()"
   ]
  },
  {
   "cell_type": "markdown",
   "metadata": {},
   "source": [
    "### 2. Binarized data"
   ]
  },
  {
   "cell_type": "code",
   "execution_count": 342,
   "metadata": {
    "scrolled": true
   },
   "outputs": [
    {
     "name": "stdout",
     "output_type": "stream",
     "text": [
      "(267, 484)\n"
     ]
    },
    {
     "data": {
      "text/plain": [
       "0.3099135622187438"
      ]
     },
     "execution_count": 342,
     "metadata": {},
     "output_type": "execute_result"
    }
   ],
   "source": [
    "from sklearn.linear_model import LogisticRegression\n",
    "from sklearn.model_selection import cross_val_score\n",
    "from sklearn.utils import shuffle\n",
    "\n",
    "X_, y = shuffle(X_bin, y1)\n",
    "print(X_.shape)\n",
    "model = LogisticRegression(penalty = \"l1\", solver = \"liblinear\", class_weight = \"balanced\", multi_class = \"ovr\")\n",
    "cross_val_score(model, X_, y, cv = 3, scoring = \"f1_macro\").mean()"
   ]
  },
  {
   "cell_type": "code",
   "execution_count": 343,
   "metadata": {
    "scrolled": true
   },
   "outputs": [
    {
     "name": "stdout",
     "output_type": "stream",
     "text": [
      "(267, 203)\n"
     ]
    },
    {
     "data": {
      "text/plain": [
       "0.2944286069518886"
      ]
     },
     "execution_count": 343,
     "metadata": {},
     "output_type": "execute_result"
    }
   ],
   "source": [
    "from sklearn.linear_model import LogisticRegression\n",
    "\n",
    "X_, y = shuffle(X_bin, y1)\n",
    "X_ = PCA(1 - 1e-3).fit(X_).transform(X_)\n",
    "print(X_.shape)\n",
    "model = LogisticRegression(penalty = \"l1\", solver = \"liblinear\", class_weight = \"balanced\", multi_class = \"ovr\")\n",
    "cross_val_score(model, X_, y, cv = 3, scoring = \"f1_macro\").mean()"
   ]
  },
  {
   "cell_type": "code",
   "execution_count": 344,
   "metadata": {},
   "outputs": [
    {
     "data": {
      "text/plain": [
       "0.3564686308931833"
      ]
     },
     "execution_count": 344,
     "metadata": {},
     "output_type": "execute_result"
    }
   ],
   "source": [
    "from sklearn.ensemble import GradientBoostingClassifier\n",
    "\n",
    "model = GradientBoostingClassifier(n_estimators = 1000, max_depth = 10)\n",
    "\n",
    "cross_val_score(model, X_, y, cv = 3, scoring = \"f1_macro\").mean()"
   ]
  },
  {
   "cell_type": "markdown",
   "metadata": {},
   "source": [
    "## The Second Union"
   ]
  },
  {
   "cell_type": "markdown",
   "metadata": {},
   "source": [
    "### 1. Not binarized data"
   ]
  },
  {
   "cell_type": "code",
   "execution_count": 347,
   "metadata": {
    "scrolled": true
   },
   "outputs": [
    {
     "name": "stdout",
     "output_type": "stream",
     "text": [
      "(267, 484)\n"
     ]
    },
    {
     "data": {
      "text/plain": [
       "0.35439179134432214"
      ]
     },
     "execution_count": 347,
     "metadata": {},
     "output_type": "execute_result"
    }
   ],
   "source": [
    "from sklearn.linear_model import LogisticRegression\n",
    "from sklearn.model_selection import cross_val_score\n",
    "from sklearn.utils import shuffle\n",
    "\n",
    "X_, y = shuffle(X, y2)\n",
    "print(X_.shape)\n",
    "model = LogisticRegression(penalty = \"l1\", solver = \"liblinear\", class_weight = \"balanced\", multi_class = \"ovr\")\n",
    "cross_val_score(model, X_, y, cv = 3, scoring = \"f1_macro\").mean()"
   ]
  },
  {
   "cell_type": "code",
   "execution_count": 348,
   "metadata": {
    "scrolled": true
   },
   "outputs": [
    {
     "name": "stdout",
     "output_type": "stream",
     "text": [
      "(267, 210)\n"
     ]
    },
    {
     "data": {
      "text/plain": [
       "0.38024353390771953"
      ]
     },
     "execution_count": 348,
     "metadata": {},
     "output_type": "execute_result"
    }
   ],
   "source": [
    "from sklearn.linear_model import LogisticRegression\n",
    "\n",
    "X_, y = shuffle(X, y2)\n",
    "X_ = PCA(1 - 1e-3).fit(X_).transform(X_)\n",
    "print(X_.shape)\n",
    "model = LogisticRegression(penalty = \"l1\", solver = \"liblinear\", class_weight = \"balanced\", multi_class = \"ovr\")\n",
    "cross_val_score(model, X_, y, cv = 3, scoring = \"f1_macro\").mean()"
   ]
  },
  {
   "cell_type": "code",
   "execution_count": 349,
   "metadata": {},
   "outputs": [
    {
     "data": {
      "text/plain": [
       "0.29231661274542103"
      ]
     },
     "execution_count": 349,
     "metadata": {},
     "output_type": "execute_result"
    }
   ],
   "source": [
    "from sklearn.ensemble import GradientBoostingClassifier\n",
    "\n",
    "model = GradientBoostingClassifier(n_estimators = 1000, max_depth = 10)\n",
    "\n",
    "cross_val_score(model, X_, y, cv = 3, scoring = \"f1_macro\").mean()"
   ]
  },
  {
   "cell_type": "markdown",
   "metadata": {},
   "source": [
    "### 2. Binarized data"
   ]
  },
  {
   "cell_type": "code",
   "execution_count": 350,
   "metadata": {
    "scrolled": true
   },
   "outputs": [
    {
     "name": "stdout",
     "output_type": "stream",
     "text": [
      "(267, 484)\n"
     ]
    },
    {
     "data": {
      "text/plain": [
       "0.3032155332411995"
      ]
     },
     "execution_count": 350,
     "metadata": {},
     "output_type": "execute_result"
    }
   ],
   "source": [
    "from sklearn.linear_model import LogisticRegression\n",
    "from sklearn.model_selection import cross_val_score\n",
    "from sklearn.utils import shuffle\n",
    "\n",
    "X_, y = shuffle(X_bin, y2)\n",
    "print(X_.shape)\n",
    "model = LogisticRegression(penalty = \"l1\", solver = \"liblinear\", class_weight = \"balanced\", multi_class = \"ovr\")\n",
    "cross_val_score(model, X_, y, cv = 3, scoring = \"f1_macro\").mean()"
   ]
  },
  {
   "cell_type": "code",
   "execution_count": 351,
   "metadata": {
    "scrolled": true
   },
   "outputs": [
    {
     "name": "stdout",
     "output_type": "stream",
     "text": [
      "(267, 203)\n"
     ]
    },
    {
     "data": {
      "text/plain": [
       "0.3375467676948692"
      ]
     },
     "execution_count": 351,
     "metadata": {},
     "output_type": "execute_result"
    }
   ],
   "source": [
    "from sklearn.linear_model import LogisticRegression\n",
    "\n",
    "X_, y = shuffle(X_bin, y2)\n",
    "X_ = PCA(1 - 1e-3).fit(X_).transform(X_)\n",
    "print(X_.shape)\n",
    "model = LogisticRegression(penalty = \"l1\", solver = \"liblinear\", class_weight = \"balanced\", multi_class = \"ovr\")\n",
    "cross_val_score(model, X_, y, cv = 3, scoring = \"f1_macro\").mean()"
   ]
  },
  {
   "cell_type": "code",
   "execution_count": 352,
   "metadata": {},
   "outputs": [
    {
     "data": {
      "text/plain": [
       "0.3486800170253408"
      ]
     },
     "execution_count": 352,
     "metadata": {},
     "output_type": "execute_result"
    }
   ],
   "source": [
    "from sklearn.ensemble import GradientBoostingClassifier\n",
    "\n",
    "model = GradientBoostingClassifier(n_estimators = 1000, max_depth = 10)\n",
    "\n",
    "cross_val_score(model, X_, y, cv = 3, scoring = \"f1_macro\").mean()"
   ]
  },
  {
   "cell_type": "code",
   "execution_count": null,
   "metadata": {},
   "outputs": [],
   "source": []
  },
  {
   "cell_type": "code",
   "execution_count": null,
   "metadata": {},
   "outputs": [],
   "source": []
  }
 ],
 "metadata": {
  "kernelspec": {
   "display_name": "Python 3",
   "language": "python",
   "name": "python3"
  },
  "language_info": {
   "codemirror_mode": {
    "name": "ipython",
    "version": 3
   },
   "file_extension": ".py",
   "mimetype": "text/x-python",
   "name": "python",
   "nbconvert_exporter": "python",
   "pygments_lexer": "ipython3",
   "version": "3.7.3"
  }
 },
 "nbformat": 4,
 "nbformat_minor": 2
}
